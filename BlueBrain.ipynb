{
 "cells": [
  {
   "cell_type": "code",
   "execution_count": 20,
   "metadata": {
    "collapsed": true
   },
   "outputs": [],
   "source": [
    "library(FlashGraphR)\n",
    "library(rhdf5)"
   ]
  },
  {
   "cell_type": "code",
   "execution_count": 2,
   "metadata": {},
   "outputs": [
    {
     "data": {
      "text/html": [
       "<table>\n",
       "<thead><tr><th></th><th scope=col>group</th><th scope=col>name</th><th scope=col>otype</th><th scope=col>dclass</th><th scope=col>dim</th></tr></thead>\n",
       "<tbody>\n",
       "\t<tr><th scope=row>0</th><td>/          </td><td>instance0  </td><td>H5I_DATASET</td><td>INTEGER    </td><td>7803528 x 2</td></tr>\n",
       "\t<tr><th scope=row>1</th><td>/          </td><td>instance1  </td><td>H5I_DATASET</td><td>INTEGER    </td><td>7803528 x 2</td></tr>\n",
       "\t<tr><th scope=row>2</th><td>/          </td><td>instance2  </td><td>H5I_DATASET</td><td>INTEGER    </td><td>7803528 x 2</td></tr>\n",
       "\t<tr><th scope=row>3</th><td>/          </td><td>instance3  </td><td>H5I_DATASET</td><td>INTEGER    </td><td>7803528 x 2</td></tr>\n",
       "\t<tr><th scope=row>4</th><td>/          </td><td>instance4  </td><td>H5I_DATASET</td><td>INTEGER    </td><td>7803528 x 2</td></tr>\n",
       "\t<tr><th scope=row>5</th><td>/          </td><td>instance5  </td><td>H5I_DATASET</td><td>INTEGER    </td><td>7803528 x 2</td></tr>\n",
       "\t<tr><th scope=row>6</th><td>/          </td><td>instance6  </td><td>H5I_DATASET</td><td>INTEGER    </td><td>7803528 x 2</td></tr>\n",
       "\t<tr><th scope=row>7</th><td>/          </td><td>instance7  </td><td>H5I_DATASET</td><td>INTEGER    </td><td>7803528 x 2</td></tr>\n",
       "\t<tr><th scope=row>8</th><td>/          </td><td>instance8  </td><td>H5I_DATASET</td><td>INTEGER    </td><td>7803528 x 2</td></tr>\n",
       "\t<tr><th scope=row>9</th><td>/          </td><td>instance9  </td><td>H5I_DATASET</td><td>INTEGER    </td><td>7803528 x 2</td></tr>\n",
       "</tbody>\n",
       "</table>\n"
      ],
      "text/latex": [
       "\\begin{tabular}{r|lllll}\n",
       "  & group & name & otype & dclass & dim\\\\\n",
       "\\hline\n",
       "\t0 & /             & instance0     & H5I\\_DATASET & INTEGER       & 7803528 x 2  \\\\\n",
       "\t1 & /             & instance1     & H5I\\_DATASET & INTEGER       & 7803528 x 2  \\\\\n",
       "\t2 & /             & instance2     & H5I\\_DATASET & INTEGER       & 7803528 x 2  \\\\\n",
       "\t3 & /             & instance3     & H5I\\_DATASET & INTEGER       & 7803528 x 2  \\\\\n",
       "\t4 & /             & instance4     & H5I\\_DATASET & INTEGER       & 7803528 x 2  \\\\\n",
       "\t5 & /             & instance5     & H5I\\_DATASET & INTEGER       & 7803528 x 2  \\\\\n",
       "\t6 & /             & instance6     & H5I\\_DATASET & INTEGER       & 7803528 x 2  \\\\\n",
       "\t7 & /             & instance7     & H5I\\_DATASET & INTEGER       & 7803528 x 2  \\\\\n",
       "\t8 & /             & instance8     & H5I\\_DATASET & INTEGER       & 7803528 x 2  \\\\\n",
       "\t9 & /             & instance9     & H5I\\_DATASET & INTEGER       & 7803528 x 2  \\\\\n",
       "\\end{tabular}\n"
      ],
      "text/markdown": [
       "\n",
       "| <!--/--> | group | name | otype | dclass | dim | \n",
       "|---|---|---|---|---|---|---|---|---|---|\n",
       "| 0 | /           | instance0   | H5I_DATASET | INTEGER     | 7803528 x 2 | \n",
       "| 1 | /           | instance1   | H5I_DATASET | INTEGER     | 7803528 x 2 | \n",
       "| 2 | /           | instance2   | H5I_DATASET | INTEGER     | 7803528 x 2 | \n",
       "| 3 | /           | instance3   | H5I_DATASET | INTEGER     | 7803528 x 2 | \n",
       "| 4 | /           | instance4   | H5I_DATASET | INTEGER     | 7803528 x 2 | \n",
       "| 5 | /           | instance5   | H5I_DATASET | INTEGER     | 7803528 x 2 | \n",
       "| 6 | /           | instance6   | H5I_DATASET | INTEGER     | 7803528 x 2 | \n",
       "| 7 | /           | instance7   | H5I_DATASET | INTEGER     | 7803528 x 2 | \n",
       "| 8 | /           | instance8   | H5I_DATASET | INTEGER     | 7803528 x 2 | \n",
       "| 9 | /           | instance9   | H5I_DATASET | INTEGER     | 7803528 x 2 | \n",
       "\n",
       "\n"
      ],
      "text/plain": [
       "  group name      otype       dclass  dim        \n",
       "0 /     instance0 H5I_DATASET INTEGER 7803528 x 2\n",
       "1 /     instance1 H5I_DATASET INTEGER 7803528 x 2\n",
       "2 /     instance2 H5I_DATASET INTEGER 7803528 x 2\n",
       "3 /     instance3 H5I_DATASET INTEGER 7803528 x 2\n",
       "4 /     instance4 H5I_DATASET INTEGER 7803528 x 2\n",
       "5 /     instance5 H5I_DATASET INTEGER 7803528 x 2\n",
       "6 /     instance6 H5I_DATASET INTEGER 7803528 x 2\n",
       "7 /     instance7 H5I_DATASET INTEGER 7803528 x 2\n",
       "8 /     instance8 H5I_DATASET INTEGER 7803528 x 2\n",
       "9 /     instance9 H5I_DATASET INTEGER 7803528 x 2"
      ]
     },
     "metadata": {},
     "output_type": "display_data"
    }
   ],
   "source": [
    "h5ls(\"/root/cloud_based.h5\")"
   ]
  },
  {
   "cell_type": "code",
   "execution_count": 21,
   "metadata": {
    "collapsed": true
   },
   "outputs": [],
   "source": [
    "data <- h5read(\"/root/cloud_based.h5\", \"instance0\")"
   ]
  },
  {
   "cell_type": "code",
   "execution_count": 22,
   "metadata": {},
   "outputs": [
    {
     "data": {
      "text/html": [
       "<ol class=list-inline>\n",
       "\t<li>0</li>\n",
       "\t<li>31345</li>\n",
       "</ol>\n"
      ],
      "text/latex": [
       "\\begin{enumerate*}\n",
       "\\item 0\n",
       "\\item 31345\n",
       "\\end{enumerate*}\n"
      ],
      "text/markdown": [
       "1. 0\n",
       "2. 31345\n",
       "\n",
       "\n"
      ],
      "text/plain": [
       "[1]     0 31345"
      ]
     },
     "metadata": {},
     "output_type": "display_data"
    },
    {
     "data": {
      "text/html": [
       "<ol class=list-inline>\n",
       "\t<li>7803528</li>\n",
       "\t<li>2</li>\n",
       "</ol>\n"
      ],
      "text/latex": [
       "\\begin{enumerate*}\n",
       "\\item 7803528\n",
       "\\item 2\n",
       "\\end{enumerate*}\n"
      ],
      "text/markdown": [
       "1. 7803528\n",
       "2. 2\n",
       "\n",
       "\n"
      ],
      "text/plain": [
       "[1] 7803528       2"
      ]
     },
     "metadata": {},
     "output_type": "display_data"
    }
   ],
   "source": [
    "range(data)\n",
    "dim(data)"
   ]
  },
  {
   "cell_type": "code",
   "execution_count": 23,
   "metadata": {
    "collapsed": true
   },
   "outputs": [],
   "source": [
    "write.table(data, file=\"/root/cloud_based1.txt\", row.names=FALSE, col.names=FALSE)"
   ]
  },
  {
   "cell_type": "code",
   "execution_count": 24,
   "metadata": {
    "collapsed": true
   },
   "outputs": [],
   "source": [
    "dg <- fg.load.graph(\"/root/cloud_based1.txt\", directed = TRUE, in.mem = TRUE)"
   ]
  },
  {
   "cell_type": "code",
   "execution_count": 25,
   "metadata": {
    "collapsed": true
   },
   "outputs": [],
   "source": [
    "ug <- fg.load.graph(\"/root/cloud_based1.txt\", directed = FALSE, in.mem = TRUE)"
   ]
  },
  {
   "cell_type": "code",
   "execution_count": 26,
   "metadata": {},
   "outputs": [
    {
     "data": {
      "text/plain": [
       "FlashGraph _root_cloud_based1.txt (D): 31346 7803528"
      ]
     },
     "metadata": {},
     "output_type": "display_data"
    }
   ],
   "source": [
    "dg"
   ]
  },
  {
   "cell_type": "code",
   "execution_count": 27,
   "metadata": {},
   "outputs": [
    {
     "data": {
      "text/plain": [
       "FlashGraph _root_cloud_based1.txt (U): 31346 7803528"
      ]
     },
     "metadata": {},
     "output_type": "display_data"
    }
   ],
   "source": [
    "ug"
   ]
  },
  {
   "cell_type": "code",
   "execution_count": 28,
   "metadata": {
    "collapsed": true
   },
   "outputs": [],
   "source": [
    "in.deg <- fg.degree(dg, mode=\"in\")\n",
    "out.deg <- fg.degree(dg, mode=\"out\")"
   ]
  },
  {
   "cell_type": "code",
   "execution_count": 12,
   "metadata": {},
   "outputs": [
    {
     "data": {
      "image/png": "[encoded data removed]",
      "text/plain": [
       "Plot with title \"Histogram of as.vector(in.deg)\""
      ]
     },
     "metadata": {},
     "output_type": "display_data"
    },
    {
     "data": {
      "image/png": "[encoded data removed]",
      "text/plain": [
       "Plot with title \"Histogram of as.vector(out.deg)\""
      ]
     },
     "metadata": {},
     "output_type": "display_data"
    }
   ],
   "source": [
    "hist(as.vector(in.deg), xlab=\"in-degree\", ylab=\"#vertices\")\n",
    "hist(as.vector(out.deg), xlab=\"out-degree\", ylab=\"#vertices\")"
   ]
  },
  {
   "cell_type": "code",
   "execution_count": 13,
   "metadata": {},
   "outputs": [
    {
     "data": {
      "text/html": [
       "<ol class=list-inline>\n",
       "\t<li>253</li>\n",
       "\t<li>134</li>\n",
       "\t<li>277</li>\n",
       "\t<li>205</li>\n",
       "\t<li>140</li>\n",
       "\t<li>201</li>\n",
       "</ol>\n"
      ],
      "text/latex": [
       "\\begin{enumerate*}\n",
       "\\item 253\n",
       "\\item 134\n",
       "\\item 277\n",
       "\\item 205\n",
       "\\item 140\n",
       "\\item 201\n",
       "\\end{enumerate*}\n"
      ],
      "text/markdown": [
       "1. 253\n",
       "2. 134\n",
       "3. 277\n",
       "4. 205\n",
       "5. 140\n",
       "6. 201\n",
       "\n",
       "\n"
      ],
      "text/plain": [
       "[1] 253 134 277 205 140 201"
      ]
     },
     "metadata": {},
     "output_type": "display_data"
    },
    {
     "data": {
      "image/png": "[encoded data removed]",
      "text/plain": [
       "Plot with title \"Histogram of as.vector(deg)\""
      ]
     },
     "metadata": {},
     "output_type": "display_data"
    }
   ],
   "source": [
    "deg <- fg.degree(ug, mode=\"out\")\n",
    "as.vector(head(deg))\n",
    "hist(as.vector(deg), xlab=\"degree\", ylab=\"#vertices\")"
   ]
  },
  {
   "cell_type": "code",
   "execution_count": 14,
   "metadata": {
    "collapsed": true
   },
   "outputs": [],
   "source": [
    "pg <- fg.page.rank(dg)"
   ]
  },
  {
   "cell_type": "code",
   "execution_count": 15,
   "metadata": {},
   "outputs": [
    {
     "name": "stdout",
     "output_type": "stream",
     "text": [
      "       vid PageRank\n",
      "[1,] 13490 3.227344\n",
      "[2,] 13771 3.113547\n",
      "[3,] 23056 3.088462\n",
      "[4,] 22099 3.072039\n",
      "[5,] 22905 3.033474\n",
      "[6,] 12784 3.021586\n"
     ]
    }
   ],
   "source": [
    "s <- sort(as.vector(pg), decreasing = TRUE, index.return=TRUE)\n",
    "mat <- cbind(head(s$ix), head(s$x))\n",
    "colnames(mat) <- c(\"vid\", \"PageRank\")\n",
    "print(mat)"
   ]
  },
  {
   "cell_type": "code",
   "execution_count": 16,
   "metadata": {},
   "outputs": [
    {
     "data": {
      "image/png": "[encoded data removed]",
      "text/plain": [
       "Plot with title \"Histogram of as.vector(dtrs)\""
      ]
     },
     "metadata": {},
     "output_type": "display_data"
    }
   ],
   "source": [
    "dtrs <- fg.triangles(dg)\n",
    "hist(as.vector(dtrs), xlab=\"#triangles\", ylab=\"#vertices\")"
   ]
  },
  {
   "cell_type": "code",
   "execution_count": 17,
   "metadata": {
    "collapsed": true
   },
   "outputs": [],
   "source": [
    "spm <- fg.get.sparse.matrix(ug)\n",
    "mul <- function(x, extra) spm %*% x\n",
    "res <- fm.eigen(mul, 10, nrow(spm), which=\"LM\", sym=TRUE)"
   ]
  },
  {
   "cell_type": "code",
   "execution_count": 18,
   "metadata": {
    "collapsed": true
   },
   "outputs": [],
   "source": [
    "library(fpc)"
   ]
  },
  {
   "cell_type": "code",
   "execution_count": 19,
   "metadata": {},
   "outputs": [
    {
     "name": "stdout",
     "output_type": "stream",
     "text": [
      "2  clusters  0.1379163 \n",
      "3  clusters  0.1281709 \n",
      "4  clusters  0.138217 \n",
      "5  clusters  0.1201491 \n",
      "6  clusters  0.1910698 \n",
      "7  clusters  0.2281747 \n",
      "8  clusters  0.1808745 \n",
      "9  clusters  0.2688144 \n",
      "10  clusters  0.2603055 \n",
      "11  clusters  0.2462189 \n",
      "12  clusters  0.2517944 \n",
      "13  clusters  0.2077625 \n",
      "14  clusters  0.1905793 \n",
      "15  clusters  0.2096504 \n",
      "16  clusters  0.2531863 \n",
      "17  clusters  0.2095267 \n",
      "18  clusters  0.2307145 \n",
      "19  clusters  0.2978553 \n",
      "20  clusters  0.2434395 \n"
     ]
    }
   ],
   "source": [
    "data <- fm.mapply.row(res$vectors, sqrt(res$values), FUN=\"*\")\n",
    "res <- pamk(as.matrix(data), krange = 2:20, usepam=FALSE, critout=TRUE)"
   ]
  },
  {
   "cell_type": "code",
   "execution_count": null,
   "metadata": {
    "collapsed": true
   },
   "outputs": [],
   "source": []
  }
 ],
 "metadata": {
  "kernelspec": {
   "display_name": "R",
   "language": "R",
   "name": "ir"
  },
  "language_info": {
   "codemirror_mode": "r",
   "file_extension": ".r",
   "mimetype": "text/x-r-source",
   "name": "R",
   "pygments_lexer": "r",
   "version": "3.4.0"
  }
 },
 "nbformat": 4,
 "nbformat_minor": 2
}
