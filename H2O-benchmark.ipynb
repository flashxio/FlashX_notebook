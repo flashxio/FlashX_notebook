{
 "cells": [
  {
   "cell_type": "code",
   "execution_count": 1,
   "metadata": {},
   "outputs": [
    {
     "name": "stderr",
     "output_type": "stream",
     "text": [
      "\n",
      "----------------------------------------------------------------------\n",
      "\n",
      "Your next step is to start H2O:\n",
      "    > h2o.init()\n",
      "\n",
      "For H2O package documentation, ask for help:\n",
      "    > ??h2o\n",
      "\n",
      "After starting H2O, you can use the Web UI at http://localhost:54321\n",
      "For more information visit http://docs.h2o.ai\n",
      "\n",
      "----------------------------------------------------------------------\n",
      "\n",
      "\n",
      "Attaching package: ‘h2o’\n",
      "\n",
      "The following objects are masked from ‘package:stats’:\n",
      "\n",
      "    cor, sd, var\n",
      "\n",
      "The following objects are masked from ‘package:base’:\n",
      "\n",
      "    ||, &&, %*%, apply, as.factor, as.numeric, colnames, colnames<-,\n",
      "    ifelse, %in%, is.character, is.factor, is.numeric, log, log10,\n",
      "    log1p, log2, round, signif, trunc\n",
      "\n"
     ]
    },
    {
     "name": "stdout",
     "output_type": "stream",
     "text": [
      " Connection successful!\n",
      "\n",
      "R is connected to the H2O cluster: \n",
      "    H2O cluster uptime:         1 minutes 12 seconds \n",
      "    H2O cluster version:        3.14.0.1 \n",
      "    H2O cluster version age:    5 days  \n",
      "    H2O cluster name:           ubuntu \n",
      "    H2O cluster total nodes:    4 \n",
      "    H2O cluster total memory:   701.90 GB \n",
      "    H2O cluster total cores:    256 \n",
      "    H2O cluster allowed cores:  256 \n",
      "    H2O cluster healthy:        TRUE \n",
      "    H2O Connection ip:          localhost \n",
      "    H2O Connection port:        54321 \n",
      "    H2O Connection proxy:       NA \n",
      "    H2O Internal Security:      FALSE \n",
      "    H2O API Extensions:         XGBoost, Algos, AutoML, Core V3, Core V4 \n",
      "    R Version:                  R version 3.2.3 (2015-12-10) \n",
      "\n"
     ]
    }
   ],
   "source": [
    "library(h2o)\n",
    "h2o.init()"
   ]
  },
  {
   "cell_type": "code",
   "execution_count": 39,
   "metadata": {},
   "outputs": [
    {
     "data": {
      "text/html": [
       "<table>\n",
       "<thead><tr><th></th><th scope=col>used</th><th scope=col>(Mb)</th><th scope=col>gc trigger</th><th scope=col>(Mb)</th><th scope=col>max used</th><th scope=col>(Mb)</th></tr></thead>\n",
       "<tbody>\n",
       "\t<tr><th scope=row>Ncells</th><td>480746 </td><td>25.7   </td><td> 940480</td><td>50.3   </td><td> 940480</td><td>50.3   </td></tr>\n",
       "\t<tr><th scope=row>Vcells</th><td>668839 </td><td> 5.2   </td><td>1650153</td><td>12.6   </td><td>1639853</td><td>12.6   </td></tr>\n",
       "</tbody>\n",
       "</table>\n"
      ],
      "text/latex": [
       "\\begin{tabular}{r|llllll}\n",
       "  & used & (Mb) & gc trigger & (Mb) & max used & (Mb)\\\\\n",
       "\\hline\n",
       "\tNcells & 480746  & 25.7    &  940480 & 50.3    &  940480 & 50.3   \\\\\n",
       "\tVcells & 668839  &  5.2    & 1650153 & 12.6    & 1639853 & 12.6   \\\\\n",
       "\\end{tabular}\n"
      ],
      "text/markdown": [
       "\n",
       "| <!--/--> | used | (Mb) | gc trigger | (Mb) | max used | (Mb) | \n",
       "|---|---|\n",
       "| Ncells | 480746  | 25.7    |  940480 | 50.3    |  940480 | 50.3    | \n",
       "| Vcells | 668839  |  5.2    | 1650153 | 12.6    | 1639853 | 12.6    | \n",
       "\n",
       "\n"
      ],
      "text/plain": [
       "       used   (Mb) gc trigger (Mb) max used (Mb)\n",
       "Ncells 480746 25.7  940480    50.3  940480  50.3\n",
       "Vcells 668839  5.2 1650153    12.6 1639853  12.6"
      ]
     },
     "metadata": {},
     "output_type": "display_data"
    },
    {
     "name": "stdout",
     "output_type": "stream",
     "text": [
      "\r",
      "  |                                                                            \r",
      "  |                                                                      |   0%\r",
      "  |                                                                            \r",
      "  |=======                                                               |  11%\r",
      "  |                                                                            \r",
      "  |============                                                          |  17%\r",
      "  |                                                                            \r",
      "  |=================                                                     |  24%\r",
      "  |                                                                            \r",
      "  |=================                                                     |  25%\r",
      "  |                                                                            \r",
      "  |======================                                                |  32%\r",
      "  |                                                                            \r",
      "  |=================================                                     |  48%\r",
      "  |                                                                            \r",
      "  |==================================                                    |  48%\r",
      "  |                                                                            \r",
      "  |=========================================                             |  58%\r",
      "  |                                                                            \r",
      "  |=================================================                     |  70%\r",
      "  |                                                                            \r",
      "  |=======================================================               |  78%\r",
      "  |                                                                            \r",
      "  |==========================================================            |  83%\r",
      "  |                                                                            \r",
      "  |=============================================================         |  87%\r",
      "  |                                                                            \r",
      "  |==============================================================        |  89%\r",
      "  |                                                                            \r",
      "  |==================================================================    |  94%\r",
      "  |                                                                            \r",
      "  |===================================================================== |  98%\r",
      "  |                                                                            \r",
      "  |======================================================================| 100%\n"
     ]
    }
   ],
   "source": [
    "df <- NULL\n",
    "gc()\n",
    "df <- h2o.createFrame(rows = 325000000, cols = 40, categorical_fraction = 0,\n",
    "                      integer_fraction = 0, binary_fraction = 0,\n",
    "                      binary_ones_fraction = 0, missing_fraction = 0)"
   ]
  },
  {
   "cell_type": "code",
   "execution_count": 46,
   "metadata": {},
   "outputs": [
    {
     "data": {
      "text/plain": [
       "  C1        C2        C3         C4         C5        C6         C7        C8\n",
       "1  0 -92.39105 11.911735  93.242168  -3.528178  15.72462 -38.419397  36.40747\n",
       "2  0  80.01406 -3.806393  91.408449  47.654086  64.39609  72.432906 -41.16818\n",
       "3  0  34.03076 37.698151  91.711763 -89.948003 -74.27594 -19.323787 -48.87949\n",
       "4  0 -18.38590 51.818085 -60.683422 -45.168186  11.87258  81.533487  18.71605\n",
       "5  1 -43.63516 76.707075   1.116353  -1.128072 -72.33658   1.231452 -32.52128\n",
       "6  0  85.64007 96.784679 -74.412225  44.529119  65.34174 -13.290972  87.46625\n",
       "         C9        C10        C11       C12       C13       C14        C15\n",
       "1 -51.52311   2.039254 -48.870845  75.31375 -76.27279  77.75817 -20.357278\n",
       "2 -45.03377  83.524354  46.062453 -38.51840  85.51365 -13.19665  -4.196968\n",
       "3 -42.85438 -64.666496 -86.321826  12.16112 -22.88177  87.56906  -2.338532\n",
       "4 -55.33676 -18.685689  27.416569  47.19213 -45.04992  99.63537 -46.867142\n",
       "5 -58.11040 -33.589581  -3.585963 -10.39162 -42.65988 -22.98784  60.442043\n",
       "6 -93.26116   2.938656  80.242140 -47.73639 -47.23450 -20.65373  97.677369\n",
       "         C16       C17       C18        C19       C20        C21       C22\n",
       "1  84.615680  58.90312  24.40094  41.135096 -57.66323 -64.416966  89.59953\n",
       "2  -8.030201 -87.48314  33.95595   4.691196 -83.95858  39.320814 -65.73683\n",
       "3 -14.270050  96.29697 -66.65578  57.661482  79.73646  28.944129  39.32279\n",
       "4  12.011345 -20.27380 -18.36620 -22.888130 -78.30763  40.757778  84.51993\n",
       "5  31.120040 -99.42347  25.86599  62.525356  88.30929 -16.945330  21.44749\n",
       "6 -95.738047  97.78933 -88.62080  58.760722  91.77598   8.340987 -83.26132\n",
       "        C23       C24       C25       C26       C27          C28       C29\n",
       "1 -30.51185 -25.59406 -73.90953  69.80834  17.19184  33.78153891 -83.78630\n",
       "2  85.23097  94.26518  86.20748 -30.06584 -60.16344  -4.39701073  18.12291\n",
       "3  99.60527  79.60599 -60.99411  51.98526  26.69190  11.78482275  98.58538\n",
       "4 -34.72218 -24.87187 -64.25381  11.54540  20.87308 -48.26961546 -15.36533\n",
       "5 -48.97771  65.80446 -25.75019  89.78850 -36.56180   9.07225782  73.24249\n",
       "6  52.78746  63.33182  39.94198 -81.59352 -92.99747   0.01055157  11.30425\n",
       "        C30        C31       C32        C33       C34        C35        C36\n",
       "1 -49.83461 -71.125862 -56.58747 -40.107858 27.271825  70.260652   3.781840\n",
       "2 -97.04940  17.913471 -62.59752  48.129081 23.812355  39.880984 -74.826755\n",
       "3 -65.88730  -5.132271  45.28485  65.478485 36.204090 -22.816077  18.718549\n",
       "4  10.98415 -51.516984 -74.62156  71.769232 79.137154   7.672407  97.609923\n",
       "5  55.69296 -41.095047  51.25766  -7.303771 26.480538  89.632718 -17.818918\n",
       "6 -93.95825 -20.964865  10.73976  39.540593 -4.165889 -11.510586  -2.850504\n",
       "         C37        C38       C39       C40\n",
       "1 -84.439172   1.315225 -73.41697 -60.52005\n",
       "2 -87.043010  29.505265 -90.56118  91.54076\n",
       "3   9.601916  33.926744  95.28165 -32.68963\n",
       "4 -79.357169 -91.792816 -35.60995 -95.67493\n",
       "5 -65.131782 -17.500220 -49.34613 -20.30203\n",
       "6  11.805446 -61.554715  63.09630  18.18313\n",
       "\n",
       "[325000000 rows x 40 columns] "
      ]
     },
     "metadata": {},
     "output_type": "display_data"
    }
   ],
   "source": [
    "df"
   ]
  },
  {
   "cell_type": "code",
   "execution_count": 41,
   "metadata": {},
   "outputs": [],
   "source": [
    "tmp <- df"
   ]
  },
  {
   "cell_type": "markdown",
   "metadata": {},
   "source": [
    "# PCA\n",
    "https://www.rdocumentation.org/packages/h2o/versions/3.10.5.3/topics/h2o.prcomp"
   ]
  },
  {
   "cell_type": "code",
   "execution_count": 43,
   "metadata": {},
   "outputs": [
    {
     "name": "stdout",
     "output_type": "stream",
     "text": [
      "  |======================================================================| 100%\n",
      "Time difference of 31.04043 secs\n"
     ]
    }
   ],
   "source": [
    "start <- Sys.time()\n",
    "res <- h2o.prcomp(df, k=ncol(df), pca_method = \"GramSVD\", impute_missing=TRUE)\n",
    "end <- Sys.time()\n",
    "print(end - start)"
   ]
  },
  {
   "cell_type": "markdown",
   "metadata": {},
   "source": [
    "# Naive Bayes\n",
    "https://rdrr.io/cran/h2o/man/h2o.naiveBayes.html"
   ]
  },
  {
   "cell_type": "code",
   "execution_count": 44,
   "metadata": {},
   "outputs": [],
   "source": [
    "df[,1] <- as.factor(df[,1] > 0)"
   ]
  },
  {
   "cell_type": "code",
   "execution_count": 45,
   "metadata": {},
   "outputs": [
    {
     "name": "stdout",
     "output_type": "stream",
     "text": [
      "  |======================================================================| 100%\n",
      "Time difference of 24.61285 secs\n"
     ]
    }
   ],
   "source": [
    "start <- Sys.time()\n",
    "res <- h2o.naiveBayes(x=2:40, y=1, df)\n",
    "end <- Sys.time()\n",
    "print(end - start)"
   ]
  },
  {
   "cell_type": "markdown",
   "metadata": {},
   "source": [
    "# Logistic regression\n",
    "https://www.rdocumentation.org/packages/h2o/versions/3.8.1.3/topics/h2o.glm"
   ]
  },
  {
   "cell_type": "code",
   "execution_count": 49,
   "metadata": {},
   "outputs": [
    {
     "name": "stdout",
     "output_type": "stream",
     "text": [
      "  |======================================================================| 100%\n",
      "Time difference of 3.639857 secs\n"
     ]
    }
   ],
   "source": [
    "start <- Sys.time()\n",
    "res <- h2o.glm(x=2:40, y=1, df,max_iterations = 14, solver = \"L_BFGS\", family=\"binomial\", link=\"logit\")\n",
    "end <- Sys.time()\n",
    "print(end - start)"
   ]
  },
  {
   "cell_type": "code",
   "execution_count": 50,
   "metadata": {},
   "outputs": [
    {
     "data": {
      "text/plain": [
       "Model Details:\n",
       "==============\n",
       "\n",
       "H2OBinomialModel: glm\n",
       "Model ID:  GLM_model_R_1502820981828_17 \n",
       "GLM Model: summary\n",
       "    family  link              regularization number_of_predictors_total\n",
       "1 binomial logit Ridge ( lambda = 8.164E-8 )                         39\n",
       "  number_of_active_predictors number_of_iterations   training_frame\n",
       "1                           0                    0 RTMP_sid_b86e_17\n",
       "\n",
       "Coefficients: glm coefficients\n",
       "      names coefficients standardized_coefficients\n",
       "1 Intercept     0.000040                  0.000040\n",
       "2        C2     0.000000                  0.000000\n",
       "3        C3     0.000000                  0.000000\n",
       "4        C4     0.000000                  0.000000\n",
       "5        C5     0.000000                  0.000000\n",
       "\n",
       "---\n",
       "   names coefficients standardized_coefficients\n",
       "35   C35     0.000000                  0.000000\n",
       "36   C36     0.000000                  0.000000\n",
       "37   C37     0.000000                  0.000000\n",
       "38   C38     0.000000                  0.000000\n",
       "39   C39     0.000000                  0.000000\n",
       "40   C40     0.000000                  0.000000\n",
       "\n",
       "H2OBinomialMetrics: glm\n",
       "** Reported on training data. **\n",
       "\n",
       "MSE:  0.25\n",
       "RMSE:  0.5\n",
       "LogLoss:  0.6931472\n",
       "Mean Per-Class Error:  0.5\n",
       "AUC:  0.5\n",
       "Gini:  0\n",
       "R^2:  -6.468159e-13\n",
       "Residual Deviance:  450545667\n",
       "AIC:  450545669\n",
       "\n",
       "Confusion Matrix (vertical: actual; across: predicted) for F1-optimal threshold:\n",
       "       0         1    Error                  Rate\n",
       "0      0 162496769 1.000000  =162496769/162496769\n",
       "1      0 162503231 0.000000          =0/162503231\n",
       "Totals 0 325000000 0.499990   =162496769/3.25e+08\n",
       "\n",
       "Maximum Metrics: Maximum metrics at their respective thresholds\n",
       "                        metric threshold    value idx\n",
       "1                       max f1  0.500010 0.666676   0\n",
       "2                       max f2  0.500010 0.833339   0\n",
       "3                 max f0point5  0.500010 0.555565   0\n",
       "4                 max accuracy  0.500010 0.500010   0\n",
       "5                max precision  0.500010 0.500010   0\n",
       "6                   max recall  0.500010 1.000000   0\n",
       "7              max specificity  0.500010 0.000000   0\n",
       "8             max absolute_mcc  0.500010 0.000000   0\n",
       "9   max min_per_class_accuracy  0.500010 0.000000   0\n",
       "10 max mean_per_class_accuracy  0.500010 0.500000   0\n",
       "\n",
       "Gains/Lift Table: Extract with `h2o.gainsLift(<model>, <data>)` or `h2o.gainsLift(<model>, valid=<T/F>, xval=<T/F>)`\n",
       "\n"
      ]
     },
     "metadata": {},
     "output_type": "display_data"
    }
   ],
   "source": [
    "res"
   ]
  },
  {
   "cell_type": "markdown",
   "metadata": {},
   "source": [
    "# Create a new dataset for clustering"
   ]
  },
  {
   "cell_type": "code",
   "execution_count": 51,
   "metadata": {},
   "outputs": [
    {
     "data": {
      "text/html": [
       "<table>\n",
       "<thead><tr><th></th><th scope=col>used</th><th scope=col>(Mb)</th><th scope=col>gc trigger</th><th scope=col>(Mb)</th><th scope=col>max used</th><th scope=col>(Mb)</th></tr></thead>\n",
       "<tbody>\n",
       "\t<tr><th scope=row>Ncells</th><td>481531 </td><td>25.8   </td><td> 940480</td><td>50.3   </td><td> 940480</td><td>50.3   </td></tr>\n",
       "\t<tr><th scope=row>Vcells</th><td>666309 </td><td> 5.1   </td><td>1650153</td><td>12.6   </td><td>1639853</td><td>12.6   </td></tr>\n",
       "</tbody>\n",
       "</table>\n"
      ],
      "text/latex": [
       "\\begin{tabular}{r|llllll}\n",
       "  & used & (Mb) & gc trigger & (Mb) & max used & (Mb)\\\\\n",
       "\\hline\n",
       "\tNcells & 481531  & 25.8    &  940480 & 50.3    &  940480 & 50.3   \\\\\n",
       "\tVcells & 666309  &  5.1    & 1650153 & 12.6    & 1639853 & 12.6   \\\\\n",
       "\\end{tabular}\n"
      ],
      "text/markdown": [
       "\n",
       "| <!--/--> | used | (Mb) | gc trigger | (Mb) | max used | (Mb) | \n",
       "|---|---|\n",
       "| Ncells | 481531  | 25.8    |  940480 | 50.3    |  940480 | 50.3    | \n",
       "| Vcells | 666309  |  5.1    | 1650153 | 12.6    | 1639853 | 12.6    | \n",
       "\n",
       "\n"
      ],
      "text/plain": [
       "       used   (Mb) gc trigger (Mb) max used (Mb)\n",
       "Ncells 481531 25.8  940480    50.3  940480  50.3\n",
       "Vcells 666309  5.1 1650153    12.6 1639853  12.6"
      ]
     },
     "metadata": {},
     "output_type": "display_data"
    },
    {
     "name": "stdout",
     "output_type": "stream",
     "text": [
      "\r",
      "  |                                                                            \r",
      "  |                                                                      |   0%\r",
      "  |                                                                            \r",
      "  |======                                                                |   9%\r",
      "  |                                                                            \r",
      "  |==========                                                            |  14%\r",
      "  |                                                                            \r",
      "  |=================                                                     |  24%\r",
      "  |                                                                            \r",
      "  |==========================                                            |  37%\r",
      "  |                                                                            \r",
      "  |=================================                                     |  47%\r",
      "  |                                                                            \r",
      "  |====================================                                  |  52%\r",
      "  |                                                                            \r",
      "  |============================================                          |  64%\r",
      "  |                                                                            \r",
      "  |===============================================                       |  68%\r",
      "  |                                                                            \r",
      "  |=======================================================               |  78%\r",
      "  |                                                                            \r",
      "  |===========================================================           |  85%\r",
      "  |                                                                            \r",
      "  |==============================================================        |  88%\r",
      "  |                                                                            \r",
      "  |=================================================================     |  93%\r",
      "  |                                                                            \r",
      "  |===================================================================== |  99%\r",
      "  |                                                                            \r",
      "  |======================================================================| 100%\n"
     ]
    }
   ],
   "source": [
    "df <- NULL\n",
    "gc()\n",
    "df <- h2o.createFrame(rows = 336000000, cols = 32, categorical_fraction = 0,\n",
    "                      integer_fraction = 0, binary_fraction = 0,\n",
    "                      binary_ones_fraction = 0, missing_fraction = 0)"
   ]
  },
  {
   "cell_type": "code",
   "execution_count": 52,
   "metadata": {},
   "outputs": [
    {
     "data": {
      "text/plain": [
       "         C1        C2        C3        C4         C5         C6        C7\n",
       "1 -21.22972 -98.56272  81.60624  41.81655 -83.753389 -54.036459 -16.73950\n",
       "2 -26.26252  33.15718  17.61158  17.83232  34.940838 -78.145536 -46.25824\n",
       "3  74.12259 -91.46005 -54.00837  10.29198 -23.002498 -19.895773 -23.64977\n",
       "4  28.72845  22.26179  36.34223  77.51876 -92.472448  55.474583 -23.69481\n",
       "5 -42.46142 -54.00732  96.12744 -20.98691  -6.365382 -83.291144 -28.20301\n",
       "6  44.34489  40.04760 -64.10963  16.93279  37.440819  -8.008711  31.02277\n",
       "         C8        C9       C10        C11       C12       C13       C14\n",
       "1 -96.74473 -79.11350 -78.95526  32.521082  30.74635 -84.85907 -24.01032\n",
       "2 -71.58389  31.23519  13.34330 -32.385822  31.58212 -17.77635  46.70049\n",
       "3 -55.88463 -59.23711  35.82149  42.183242  83.31969  88.75458  89.10989\n",
       "4 -52.49546 -11.77948 -22.89594  84.405666 -68.42680 -37.35888 -73.30693\n",
       "5  53.48357 -54.21382  77.64335  48.304796  35.19814 -35.49984 -96.17345\n",
       "6  87.31734  88.30117 -54.81197   1.898494 -41.24267   1.90964 -87.12193\n",
       "         C15       C16        C17       C18         C19       C20       C21\n",
       "1  -8.318731  68.87485  70.848210 -61.46200  -5.5517556  56.84747  47.34143\n",
       "2  39.619156 -49.95535   9.315042 -39.20006  58.1921074 -97.89616 -72.12444\n",
       "3 -10.315622  73.19784 -17.112165 -64.60080 -22.1427870 -53.63744 -27.43957\n",
       "4 -45.204834  20.66234 -43.672583  56.39172   0.4765846 -75.19619 -24.68007\n",
       "5 -60.125554  16.01642  13.224016 -82.18159  67.9501002 -21.68361  62.33307\n",
       "6  85.489808 -99.88531  98.973454 -94.67263  99.5977748 -32.10456  43.33747\n",
       "       C22        C23        C24       C25        C26       C27        C28\n",
       "1 17.67331  15.786632 -76.484731  43.15780 -57.401939 -15.73168  -2.680273\n",
       "2 28.49701  30.937690 -45.973771 -91.59074  22.950205 -31.41774 -26.385442\n",
       "3 34.72534  -7.150782 -72.429587  47.77284  67.102929 -51.40663 -13.571848\n",
       "4 97.44471  78.715563 -99.814637 -75.93352 -73.110188 -50.78381 -51.853442\n",
       "5 13.73042 -12.162106  -2.142029 -69.33019   4.455994 -85.07417 -96.031924\n",
       "6 72.79471  96.583022 -22.748800 -17.63294  97.695064  91.69806  26.057931\n",
       "         C29       C30        C31        C32\n",
       "1 -27.369652 -66.04255   1.943315   8.875060\n",
       "2  31.221403 -27.55994 -51.258650  52.212716\n",
       "3  -3.968968 -28.97406   5.976483  -3.595849\n",
       "4 -36.846843 -84.77514 -61.669807 -75.812018\n",
       "5 -72.051727 -71.83363 -16.066733 -84.370256\n",
       "6  -8.850528  66.28403 -41.001462 -99.161697\n",
       "\n",
       "[336000000 rows x 32 columns] "
      ]
     },
     "metadata": {},
     "output_type": "display_data"
    }
   ],
   "source": [
    "df"
   ]
  },
  {
   "cell_type": "markdown",
   "metadata": {},
   "source": [
    "# k-means\n",
    "https://www.rdocumentation.org/packages/h2o/versions/3.10.5.3/topics/h2o.kmeans"
   ]
  },
  {
   "cell_type": "code",
   "execution_count": 53,
   "metadata": {},
   "outputs": [
    {
     "name": "stdout",
     "output_type": "stream",
     "text": [
      "  |======================================================================| 100%\n",
      "Time difference of 1.815095 mins\n"
     ]
    }
   ],
   "source": [
    "start <- Sys.time()\n",
    "res <- h2o.kmeans(df, k=10)\n",
    "end <- Sys.time()\n",
    "print(end - start)"
   ]
  },
  {
   "cell_type": "code",
   "execution_count": 54,
   "metadata": {},
   "outputs": [
    {
     "data": {
      "text/plain": [
       "Model Details:\n",
       "==============\n",
       "\n",
       "H2OClusteringModel: kmeans\n",
       "Model ID:  KMeans_model_R_1502820981828_19 \n",
       "Model Summary: \n",
       "  number_of_rows number_of_clusters number_of_categorical_columns\n",
       "1      336000000                 10                             0\n",
       "  number_of_iterations within_cluster_sum_of_squares total_sum_of_squares\n",
       "1                   10              9855948725.90349    10751999968.00000\n",
       "  between_cluster_sum_of_squares\n",
       "1                896051242.09651\n",
       "\n",
       "\n",
       "H2OClusteringMetrics: kmeans\n",
       "** Reported on training data. **\n",
       "\n",
       "\n",
       "Total Within SS:  9855718051\n",
       "Between SS:  896281918\n",
       "Total SS:  1.0752e+10 \n",
       "Centroid Statistics: \n",
       "   centroid           size within_cluster_sum_of_squares\n",
       "1         1 33802416.00000               991804548.87979\n",
       "2         2 33629008.00000               986488939.59956\n",
       "3         3 33503594.00000               982535133.27364\n",
       "4         4 33609985.00000               985974443.76029\n",
       "5         5 33579352.00000               984897233.44583\n",
       "6         6 33643340.00000               986980119.67898\n",
       "7         7 33567612.00000               984588763.14581\n",
       "8         8 33582652.00000               985016321.80739\n",
       "9         9 33594547.00000               985351542.34560\n",
       "10       10 33487494.00000               982081004.64211\n",
       "\n",
       "\n"
      ]
     },
     "metadata": {},
     "output_type": "display_data"
    }
   ],
   "source": [
    "res"
   ]
  },
  {
   "cell_type": "code",
   "execution_count": null,
   "metadata": {
    "collapsed": true
   },
   "outputs": [],
   "source": []
  }
 ],
 "metadata": {
  "kernelspec": {
   "display_name": "R",
   "language": "R",
   "name": "ir"
  },
  "language_info": {
   "codemirror_mode": "r",
   "file_extension": ".r",
   "mimetype": "text/x-r-source",
   "name": "R",
   "pygments_lexer": "r",
   "version": "3.2.3"
  }
 },
 "nbformat": 4,
 "nbformat_minor": 2
}
