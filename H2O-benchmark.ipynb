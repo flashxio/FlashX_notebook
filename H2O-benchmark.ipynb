{
 "cells": [
  {
   "cell_type": "code",
   "execution_count": 1,
   "metadata": {
    "scrolled": false
   },
   "outputs": [
    {
     "name": "stderr",
     "output_type": "stream",
     "text": [
      "\n",
      "----------------------------------------------------------------------\n",
      "\n",
      "Your next step is to start H2O:\n",
      "    > h2o.init()\n",
      "\n",
      "For H2O package documentation, ask for help:\n",
      "    > ??h2o\n",
      "\n",
      "After starting H2O, you can use the Web UI at http://localhost:54321\n",
      "For more information visit http://docs.h2o.ai\n",
      "\n",
      "----------------------------------------------------------------------\n",
      "\n",
      "\n",
      "Attaching package: ‘h2o’\n",
      "\n",
      "The following objects are masked from ‘package:stats’:\n",
      "\n",
      "    cor, sd, var\n",
      "\n",
      "The following objects are masked from ‘package:base’:\n",
      "\n",
      "    ||, &&, %*%, apply, as.factor, as.numeric, colnames, colnames<-,\n",
      "    ifelse, %in%, is.character, is.factor, is.numeric, log, log10,\n",
      "    log1p, log2, round, signif, trunc\n",
      "\n"
     ]
    },
    {
     "name": "stdout",
     "output_type": "stream",
     "text": [
      " Connection successful!\n",
      "\n",
      "R is connected to the H2O cluster: \n",
      "    H2O cluster uptime:         1 minutes 54 seconds \n",
      "    H2O cluster version:        3.14.0.1 \n",
      "    H2O cluster version age:    5 days  \n",
      "    H2O cluster name:           ubuntu \n",
      "    H2O cluster total nodes:    4 \n",
      "    H2O cluster total memory:   702.98 GB \n",
      "    H2O cluster total cores:    256 \n",
      "    H2O cluster allowed cores:  256 \n",
      "    H2O cluster healthy:        TRUE \n",
      "    H2O Connection ip:          localhost \n",
      "    H2O Connection port:        54321 \n",
      "    H2O Connection proxy:       NA \n",
      "    H2O Internal Security:      FALSE \n",
      "    H2O API Extensions:         XGBoost, Algos, AutoML, Core V3, Core V4 \n",
      "    R Version:                  R version 3.2.3 (2015-12-10) \n",
      "\n"
     ]
    }
   ],
   "source": [
    "library(h2o)\n",
    "h2o.init()"
   ]
  },
  {
   "cell_type": "markdown",
   "metadata": {},
   "source": [
    "# Load a real dataset"
   ]
  },
  {
   "cell_type": "code",
   "execution_count": 4,
   "metadata": {},
   "outputs": [
    {
     "name": "stdout",
     "output_type": "stream",
     "text": [
      "\r",
      "  |                                                                            \r",
      "  |                                                                      |   0%\r",
      "  |                                                                            \r",
      "  |======================================================================| 100%\n"
     ]
    }
   ],
   "source": [
    "df <- h2o.uploadFile(\"/mnt/data/Criteo_2days_positive.txt\")"
   ]
  },
  {
   "cell_type": "markdown",
   "metadata": {},
   "source": [
    "# Create a random dataset"
   ]
  },
  {
   "cell_type": "code",
   "execution_count": 39,
   "metadata": {},
   "outputs": [
    {
     "data": {
      "text/html": [
       "<table>\n",
       "<thead><tr><th></th><th scope=col>used</th><th scope=col>(Mb)</th><th scope=col>gc trigger</th><th scope=col>(Mb)</th><th scope=col>max used</th><th scope=col>(Mb)</th></tr></thead>\n",
       "<tbody>\n",
       "\t<tr><th scope=row>Ncells</th><td>480746 </td><td>25.7   </td><td> 940480</td><td>50.3   </td><td> 940480</td><td>50.3   </td></tr>\n",
       "\t<tr><th scope=row>Vcells</th><td>668839 </td><td> 5.2   </td><td>1650153</td><td>12.6   </td><td>1639853</td><td>12.6   </td></tr>\n",
       "</tbody>\n",
       "</table>\n"
      ],
      "text/latex": [
       "\\begin{tabular}{r|llllll}\n",
       "  & used & (Mb) & gc trigger & (Mb) & max used & (Mb)\\\\\n",
       "\\hline\n",
       "\tNcells & 480746  & 25.7    &  940480 & 50.3    &  940480 & 50.3   \\\\\n",
       "\tVcells & 668839  &  5.2    & 1650153 & 12.6    & 1639853 & 12.6   \\\\\n",
       "\\end{tabular}\n"
      ],
      "text/markdown": [
       "\n",
       "| <!--/--> | used | (Mb) | gc trigger | (Mb) | max used | (Mb) | \n",
       "|---|---|\n",
       "| Ncells | 480746  | 25.7    |  940480 | 50.3    |  940480 | 50.3    | \n",
       "| Vcells | 668839  |  5.2    | 1650153 | 12.6    | 1639853 | 12.6    | \n",
       "\n",
       "\n"
      ],
      "text/plain": [
       "       used   (Mb) gc trigger (Mb) max used (Mb)\n",
       "Ncells 480746 25.7  940480    50.3  940480  50.3\n",
       "Vcells 668839  5.2 1650153    12.6 1639853  12.6"
      ]
     },
     "metadata": {},
     "output_type": "display_data"
    },
    {
     "name": "stdout",
     "output_type": "stream",
     "text": [
      "\r",
      "  |                                                                            \r",
      "  |                                                                      |   0%\r",
      "  |                                                                            \r",
      "  |=======                                                               |  11%\r",
      "  |                                                                            \r",
      "  |============                                                          |  17%\r",
      "  |                                                                            \r",
      "  |=================                                                     |  24%\r",
      "  |                                                                            \r",
      "  |=================                                                     |  25%\r",
      "  |                                                                            \r",
      "  |======================                                                |  32%\r",
      "  |                                                                            \r",
      "  |=================================                                     |  48%\r",
      "  |                                                                            \r",
      "  |==================================                                    |  48%\r",
      "  |                                                                            \r",
      "  |=========================================                             |  58%\r",
      "  |                                                                            \r",
      "  |=================================================                     |  70%\r",
      "  |                                                                            \r",
      "  |=======================================================               |  78%\r",
      "  |                                                                            \r",
      "  |==========================================================            |  83%\r",
      "  |                                                                            \r",
      "  |=============================================================         |  87%\r",
      "  |                                                                            \r",
      "  |==============================================================        |  89%\r",
      "  |                                                                            \r",
      "  |==================================================================    |  94%\r",
      "  |                                                                            \r",
      "  |===================================================================== |  98%\r",
      "  |                                                                            \r",
      "  |======================================================================| 100%\n"
     ]
    }
   ],
   "source": [
    "df <- NULL\n",
    "gc()\n",
    "df <- h2o.createFrame(rows = 325000000, cols = 40, categorical_fraction = 0,\n",
    "                      integer_fraction = 0, binary_fraction = 0,\n",
    "                      binary_ones_fraction = 0, missing_fraction = 0)"
   ]
  },
  {
   "cell_type": "code",
   "execution_count": 24,
   "metadata": {},
   "outputs": [
    {
     "data": {
      "text/plain": [
       "  C1           C2           C3           C4           C5           C6 C7 C8\n",
       "1  0 1.287322e-07 9.725547e-07 2.423580e-05 1.692405e-06 0.000000e+00  0  0\n",
       "2  0 1.287322e-07 4.862774e-07 0.000000e+00 3.067485e-06 6.328940e-06  0  0\n",
       "3  0 5.149289e-06 4.584901e-06 3.877728e-05 5.500318e-06 9.041343e-07  0  0\n",
       "4  1 6.436612e-07 2.820409e-05 2.423580e-05 1.639518e-05 2.712403e-06  0  0\n",
       "5  0 0.000000e+00 2.243823e-05 0.000000e+00 0.000000e+00 0.000000e+00  0  0\n",
       "6  0 1.377435e-05 6.877351e-06 0.000000e+00 0.000000e+00 0.000000e+00  0  0\n",
       "            C9          C10 C11          C12          C13          C14\n",
       "1 9.575398e-07 1.091543e-05   0 0.000000e+00 1.207643e-06 1.161124e-05\n",
       "2 7.756073e-05 6.112641e-05   0 8.841638e-06 2.091754e-05 0.000000e+00\n",
       "3 1.012256e-05 1.964777e-05   0 8.841638e-06 1.624172e-06 1.857798e-05\n",
       "4 1.231123e-06 5.676024e-05   0 8.841638e-06 6.167658e-06 1.161124e-05\n",
       "5 1.367914e-07 3.711246e-05   0 0.000000e+00 2.430906e-04 0.000000e+00\n",
       "6 2.735828e-07 0.000000e+00   0 0.000000e+00 1.545494e-05 0.000000e+00\n",
       "           C15          C16          C17          C18          C19          C20\n",
       "1 5.977057e-07 8.372331e-05 3.504869e-05 3.533104e-05 4.027593e-05 0.0000000000\n",
       "2 3.124067e-05 8.891140e-05 6.068020e-05 7.643629e-05 2.968490e-05 0.0000000000\n",
       "3 5.413584e-06 1.022276e-05 6.991817e-05 4.871569e-05 8.324536e-06 0.0000000000\n",
       "4 3.728845e-05 9.271245e-05 2.652750e-05 6.828382e-05 4.254711e-05 0.0000000000\n",
       "5 3.124067e-05 8.891140e-05 6.047628e-05 7.643629e-05 7.264026e-05 0.0001486892\n",
       "6 4.943392e-05 5.783296e-05 7.858766e-05 1.752172e-05 2.968490e-05 0.0001486892\n",
       "           C21          C22          C23          C24          C25          C26\n",
       "1 3.922985e-05 5.361627e-05 4.264310e-05 6.094920e-05 9.706025e-05 1.029468e-04\n",
       "2 2.303975e-05 1.737853e-05 1.421437e-05 2.561914e-05 4.793545e-05 4.345284e-05\n",
       "3 6.744391e-05 4.130323e-05 1.421437e-05 1.218802e-05 1.882594e-05 4.811933e-05\n",
       "4 4.232850e-05 8.424301e-05 1.421437e-05 1.821840e-05 5.125499e-06 4.438836e-05\n",
       "5 2.991906e-05 1.737853e-05 1.421437e-05 2.561914e-05 4.793545e-05 8.992812e-05\n",
       "6 1.733171e-05 1.020891e-05 1.421437e-05 7.041251e-05 8.708329e-05 5.733461e-05\n",
       "           C27          C28          C29          C30          C31          C32\n",
       "1 6.139251e-05 0.000000e+00 7.539003e-05 0.000000e+00 0.000000e+00 5.268634e-05\n",
       "2 5.262215e-05 7.706259e-05 8.803823e-05 5.379855e-05 8.206985e-05 6.070382e-05\n",
       "3 8.770358e-06 3.418286e-05 2.544792e-05 3.765899e-05 2.735662e-05 6.052761e-05\n",
       "4 8.770358e-05 7.706259e-05 7.586244e-05 5.379855e-05 8.206985e-05 1.524203e-05\n",
       "5 8.770358e-06 7.706259e-05 8.803823e-05 5.379855e-05 8.206985e-05 6.070382e-05\n",
       "6 2.631107e-05 7.706259e-05 8.858195e-05 5.379855e-05 8.206985e-05 6.070382e-05\n",
       "           C33          C34          C35          C36          C37          C38\n",
       "1 5.818244e-05 4.851978e-05 5.012242e-05 7.650695e-05 0.000000e+00 3.035199e-05\n",
       "2 5.818244e-05 3.631960e-06 3.452386e-05 7.752267e-05 7.145947e-05 3.057931e-05\n",
       "3 5.818244e-05 6.250183e-05 4.938148e-07 2.469404e-05 6.797532e-05 8.626403e-05\n",
       "4 5.818244e-05 8.604466e-05 8.319206e-06 1.533562e-05 8.479187e-05 7.394320e-05\n",
       "5 5.818244e-05 3.631960e-06 3.452386e-05 7.752267e-05 7.145947e-05 8.448183e-05\n",
       "6 5.818244e-05 5.752901e-05 6.141712e-05 2.497770e-06 2.702361e-05 8.603671e-05\n",
       "           C39          C40\n",
       "1 1.600126e-05 5.635358e-05\n",
       "2 9.500747e-05 7.428426e-05\n",
       "3 9.500747e-05 5.635358e-05\n",
       "4 1.300102e-05 7.428426e-05\n",
       "5 5.700448e-05 7.428426e-05\n",
       "6 5.700448e-05 5.635358e-05\n",
       "\n",
       "[325032807 rows x 40 columns] "
      ]
     },
     "metadata": {},
     "output_type": "display_data"
    }
   ],
   "source": [
    "df"
   ]
  },
  {
   "cell_type": "code",
   "execution_count": 6,
   "metadata": {
    "collapsed": true
   },
   "outputs": [],
   "source": [
    "tmp <- df"
   ]
  },
  {
   "cell_type": "markdown",
   "metadata": {},
   "source": [
    "# PCA\n",
    "https://www.rdocumentation.org/packages/h2o/versions/3.10.5.3/topics/h2o.prcomp"
   ]
  },
  {
   "cell_type": "code",
   "execution_count": 8,
   "metadata": {},
   "outputs": [
    {
     "name": "stdout",
     "output_type": "stream",
     "text": [
      "  |======================================================================| 100%\n",
      "Time difference of 33.07076 secs\n"
     ]
    }
   ],
   "source": [
    "start <- Sys.time()\n",
    "res <- h2o.prcomp(df, k=ncol(df), pca_method = \"GramSVD\", impute_missing=TRUE)\n",
    "end <- Sys.time()\n",
    "print(end - start)"
   ]
  },
  {
   "cell_type": "markdown",
   "metadata": {},
   "source": [
    "# Naive Bayes\n",
    "https://rdrr.io/cran/h2o/man/h2o.naiveBayes.html"
   ]
  },
  {
   "cell_type": "markdown",
   "metadata": {},
   "source": [
    "For the random data, we use this to generate labels."
   ]
  },
  {
   "cell_type": "code",
   "execution_count": 44,
   "metadata": {
    "collapsed": true
   },
   "outputs": [],
   "source": [
    "df[,1] <- as.factor(df[,1] > 0)"
   ]
  },
  {
   "cell_type": "markdown",
   "metadata": {},
   "source": [
    "For the real data, the first column contains labels."
   ]
  },
  {
   "cell_type": "code",
   "execution_count": 23,
   "metadata": {},
   "outputs": [],
   "source": [
    "df[,1] <- as.factor(df[,1])\n",
    "for (i in 2:40) {\n",
    "    l2 <- sqrt(sum(df[,i] * df[,i]))\n",
    "    df[,i] <- df[,i]/l2\n",
    "}"
   ]
  },
  {
   "cell_type": "code",
   "execution_count": 31,
   "metadata": {},
   "outputs": [
    {
     "data": {
      "text/plain": [
       "  C1           C2           C3           C4           C5           C6 C7 C8\n",
       "1  0 1.287322e-07 9.725547e-07 2.423580e-05 1.692405e-06 0.000000e+00  0  0\n",
       "2  0 1.287322e-07 4.862774e-07 0.000000e+00 3.067485e-06 6.328940e-06  0  0\n",
       "3  0 5.149289e-06 4.584901e-06 3.877728e-05 5.500318e-06 9.041343e-07  0  0\n",
       "4  1 6.436612e-07 2.820409e-05 2.423580e-05 1.639518e-05 2.712403e-06  0  0\n",
       "5  0 0.000000e+00 2.243823e-05 0.000000e+00 0.000000e+00 0.000000e+00  0  0\n",
       "6  0 1.377435e-05 6.877351e-06 0.000000e+00 0.000000e+00 0.000000e+00  0  0\n",
       "            C9          C10 C11          C12          C13          C14\n",
       "1 9.575398e-07 1.091543e-05   0 0.000000e+00 1.207643e-06 1.161124e-05\n",
       "2 7.756073e-05 6.112641e-05   0 8.841638e-06 2.091754e-05 0.000000e+00\n",
       "3 1.012256e-05 1.964777e-05   0 8.841638e-06 1.624172e-06 1.857798e-05\n",
       "4 1.231123e-06 5.676024e-05   0 8.841638e-06 6.167658e-06 1.161124e-05\n",
       "5 1.367914e-07 3.711246e-05   0 0.000000e+00 2.430906e-04 0.000000e+00\n",
       "6 2.735828e-07 0.000000e+00   0 0.000000e+00 1.545494e-05 0.000000e+00\n",
       "           C15          C16          C17          C18          C19          C20\n",
       "1 5.977057e-07 8.372331e-05 3.504869e-05 3.533104e-05 4.027593e-05 0.0000000000\n",
       "2 3.124067e-05 8.891140e-05 6.068020e-05 7.643629e-05 2.968490e-05 0.0000000000\n",
       "3 5.413584e-06 1.022276e-05 6.991817e-05 4.871569e-05 8.324536e-06 0.0000000000\n",
       "4 3.728845e-05 9.271245e-05 2.652750e-05 6.828382e-05 4.254711e-05 0.0000000000\n",
       "5 3.124067e-05 8.891140e-05 6.047628e-05 7.643629e-05 7.264026e-05 0.0001486892\n",
       "6 4.943392e-05 5.783296e-05 7.858766e-05 1.752172e-05 2.968490e-05 0.0001486892\n",
       "           C21          C22          C23          C24          C25          C26\n",
       "1 3.922985e-05 5.361627e-05 4.264310e-05 6.094920e-05 9.706025e-05 1.029468e-04\n",
       "2 2.303975e-05 1.737853e-05 1.421437e-05 2.561914e-05 4.793545e-05 4.345284e-05\n",
       "3 6.744391e-05 4.130323e-05 1.421437e-05 1.218802e-05 1.882594e-05 4.811933e-05\n",
       "4 4.232850e-05 8.424301e-05 1.421437e-05 1.821840e-05 5.125499e-06 4.438836e-05\n",
       "5 2.991906e-05 1.737853e-05 1.421437e-05 2.561914e-05 4.793545e-05 8.992812e-05\n",
       "6 1.733171e-05 1.020891e-05 1.421437e-05 7.041251e-05 8.708329e-05 5.733461e-05\n",
       "           C27          C28          C29          C30          C31          C32\n",
       "1 6.139251e-05 0.000000e+00 7.539003e-05 0.000000e+00 0.000000e+00 5.268634e-05\n",
       "2 5.262215e-05 7.706259e-05 8.803823e-05 5.379855e-05 8.206985e-05 6.070382e-05\n",
       "3 8.770358e-06 3.418286e-05 2.544792e-05 3.765899e-05 2.735662e-05 6.052761e-05\n",
       "4 8.770358e-05 7.706259e-05 7.586244e-05 5.379855e-05 8.206985e-05 1.524203e-05\n",
       "5 8.770358e-06 7.706259e-05 8.803823e-05 5.379855e-05 8.206985e-05 6.070382e-05\n",
       "6 2.631107e-05 7.706259e-05 8.858195e-05 5.379855e-05 8.206985e-05 6.070382e-05\n",
       "           C33          C34          C35          C36          C37          C38\n",
       "1 5.818244e-05 4.851978e-05 5.012242e-05 7.650695e-05 0.000000e+00 3.035199e-05\n",
       "2 5.818244e-05 3.631960e-06 3.452386e-05 7.752267e-05 7.145947e-05 3.057931e-05\n",
       "3 5.818244e-05 6.250183e-05 4.938148e-07 2.469404e-05 6.797532e-05 8.626403e-05\n",
       "4 5.818244e-05 8.604466e-05 8.319206e-06 1.533562e-05 8.479187e-05 7.394320e-05\n",
       "5 5.818244e-05 3.631960e-06 3.452386e-05 7.752267e-05 7.145947e-05 8.448183e-05\n",
       "6 5.818244e-05 5.752901e-05 6.141712e-05 2.497770e-06 2.702361e-05 8.603671e-05\n",
       "           C39          C40\n",
       "1 1.600126e-05 5.635358e-05\n",
       "2 9.500747e-05 7.428426e-05\n",
       "3 9.500747e-05 5.635358e-05\n",
       "4 1.300102e-05 7.428426e-05\n",
       "5 5.700448e-05 7.428426e-05\n",
       "6 5.700448e-05 5.635358e-05\n",
       "\n",
       "[325032807 rows x 40 columns] "
      ]
     },
     "metadata": {},
     "output_type": "display_data"
    }
   ],
   "source": [
    "df"
   ]
  },
  {
   "cell_type": "code",
   "execution_count": 28,
   "metadata": {},
   "outputs": [
    {
     "name": "stdout",
     "output_type": "stream",
     "text": [
      "  |======================================================================| 100%\n",
      "Time difference of 35.16243 secs\n"
     ]
    }
   ],
   "source": [
    "start <- Sys.time()\n",
    "res <- h2o.naiveBayes(x=2:40, y=1, df)\n",
    "end <- Sys.time()\n",
    "print(end - start)"
   ]
  },
  {
   "cell_type": "markdown",
   "metadata": {},
   "source": [
    "# Logistic regression\n",
    "https://www.rdocumentation.org/packages/h2o/versions/3.8.1.3/topics/h2o.glm"
   ]
  },
  {
   "cell_type": "code",
   "execution_count": 29,
   "metadata": {},
   "outputs": [
    {
     "name": "stdout",
     "output_type": "stream",
     "text": [
      "  |======================================================================| 100%\n",
      "Time difference of 45.5151 secs\n"
     ]
    }
   ],
   "source": [
    "start <- Sys.time()\n",
    "res <- h2o.glm(x=2:40, y=1, df, max_iterations = 14, solver = \"L_BFGS\", family=\"binomial\", link=\"logit\")\n",
    "end <- Sys.time()\n",
    "print(end - start)"
   ]
  },
  {
   "cell_type": "code",
   "execution_count": 30,
   "metadata": {},
   "outputs": [
    {
     "data": {
      "text/plain": [
       "Model Details:\n",
       "==============\n",
       "\n",
       "H2OBinomialModel: glm\n",
       "Model ID:  GLM_model_R_1502843313817_16 \n",
       "GLM Model: summary\n",
       "    family  link              regularization number_of_predictors_total\n",
       "1 binomial logit Ridge ( lambda = 1.265E-5 )                         39\n",
       "  number_of_active_predictors number_of_iterations    training_frame\n",
       "1                          39                   12 RTMP_sid_860a_127\n",
       "\n",
       "Coefficients: glm coefficients\n",
       "      names coefficients standardized_coefficients\n",
       "1 Intercept    -3.183091                 -3.579934\n",
       "2        C2  -536.130376                 -0.029672\n",
       "3        C3 -1493.617180                 -0.071987\n",
       "4        C4   453.176432                  0.022062\n",
       "5        C5 -3468.964386                 -0.189667\n",
       "\n",
       "---\n",
       "   names coefficients standardized_coefficients\n",
       "35   C35   242.660509                  0.006355\n",
       "36   C36  1068.979601                  0.036589\n",
       "37   C37  -235.631899                 -0.008910\n",
       "38   C38  -108.586401                 -0.003162\n",
       "39   C39   600.565400                  0.021033\n",
       "40   C40  2004.012815                  0.046133\n",
       "\n",
       "H2OBinomialMetrics: glm\n",
       "** Reported on training data. **\n",
       "\n",
       "MSE:  0.03088915\n",
       "RMSE:  0.1757531\n",
       "LogLoss:  0.1373197\n",
       "Mean Per-Class Error:  0.4274163\n",
       "AUC:  0.6667797\n",
       "Gini:  0.3335594\n",
       "R^2:  0.009952565\n",
       "Residual Deviance:  89272366\n",
       "AIC:  89272446\n",
       "\n",
       "Confusion Matrix (vertical: actual; across: predicted) for F1-optimal threshold:\n",
       "               0        1    Error                 Rate\n",
       "0      288468680 26085386 0.082928  =26085386/314554066\n",
       "1        8088587  2390154 0.771904    =8088587/10478741\n",
       "Totals 296557267 28475540 0.105140  =34173973/325032807\n",
       "\n",
       "Maximum Metrics: Maximum metrics at their respective thresholds\n",
       "                        metric threshold    value idx\n",
       "1                       max f1  0.052242 0.122716 221\n",
       "2                       max f2  0.039238 0.199808 260\n",
       "3                 max f0point5  0.067477 0.105157 189\n",
       "4                 max accuracy  0.973663 0.967760   0\n",
       "5                max precision  0.203414 0.127108  98\n",
       "6                   max recall  0.000127 1.000000 399\n",
       "7              max specificity  0.973663 0.999999   0\n",
       "8             max absolute_mcc  0.043361 0.094255 246\n",
       "9   max min_per_class_accuracy  0.032845 0.618540 287\n",
       "10 max mean_per_class_accuracy  0.033262 0.619910 285\n",
       "\n",
       "Gains/Lift Table: Extract with `h2o.gainsLift(<model>, <data>)` or `h2o.gainsLift(<model>, valid=<T/F>, xval=<T/F>)`\n",
       "\n"
      ]
     },
     "metadata": {},
     "output_type": "display_data"
    }
   ],
   "source": [
    "res"
   ]
  },
  {
   "cell_type": "markdown",
   "metadata": {},
   "source": [
    "# Create a new dataset for clustering"
   ]
  },
  {
   "cell_type": "code",
   "execution_count": 51,
   "metadata": {},
   "outputs": [
    {
     "data": {
      "text/html": [
       "<table>\n",
       "<thead><tr><th></th><th scope=col>used</th><th scope=col>(Mb)</th><th scope=col>gc trigger</th><th scope=col>(Mb)</th><th scope=col>max used</th><th scope=col>(Mb)</th></tr></thead>\n",
       "<tbody>\n",
       "\t<tr><th scope=row>Ncells</th><td>481531 </td><td>25.8   </td><td> 940480</td><td>50.3   </td><td> 940480</td><td>50.3   </td></tr>\n",
       "\t<tr><th scope=row>Vcells</th><td>666309 </td><td> 5.1   </td><td>1650153</td><td>12.6   </td><td>1639853</td><td>12.6   </td></tr>\n",
       "</tbody>\n",
       "</table>\n"
      ],
      "text/latex": [
       "\\begin{tabular}{r|llllll}\n",
       "  & used & (Mb) & gc trigger & (Mb) & max used & (Mb)\\\\\n",
       "\\hline\n",
       "\tNcells & 481531  & 25.8    &  940480 & 50.3    &  940480 & 50.3   \\\\\n",
       "\tVcells & 666309  &  5.1    & 1650153 & 12.6    & 1639853 & 12.6   \\\\\n",
       "\\end{tabular}\n"
      ],
      "text/markdown": [
       "\n",
       "| <!--/--> | used | (Mb) | gc trigger | (Mb) | max used | (Mb) | \n",
       "|---|---|\n",
       "| Ncells | 481531  | 25.8    |  940480 | 50.3    |  940480 | 50.3    | \n",
       "| Vcells | 666309  |  5.1    | 1650153 | 12.6    | 1639853 | 12.6    | \n",
       "\n",
       "\n"
      ],
      "text/plain": [
       "       used   (Mb) gc trigger (Mb) max used (Mb)\n",
       "Ncells 481531 25.8  940480    50.3  940480  50.3\n",
       "Vcells 666309  5.1 1650153    12.6 1639853  12.6"
      ]
     },
     "metadata": {},
     "output_type": "display_data"
    },
    {
     "name": "stdout",
     "output_type": "stream",
     "text": [
      "\r",
      "  |                                                                            \r",
      "  |                                                                      |   0%\r",
      "  |                                                                            \r",
      "  |======                                                                |   9%\r",
      "  |                                                                            \r",
      "  |==========                                                            |  14%\r",
      "  |                                                                            \r",
      "  |=================                                                     |  24%\r",
      "  |                                                                            \r",
      "  |==========================                                            |  37%\r",
      "  |                                                                            \r",
      "  |=================================                                     |  47%\r",
      "  |                                                                            \r",
      "  |====================================                                  |  52%\r",
      "  |                                                                            \r",
      "  |============================================                          |  64%\r",
      "  |                                                                            \r",
      "  |===============================================                       |  68%\r",
      "  |                                                                            \r",
      "  |=======================================================               |  78%\r",
      "  |                                                                            \r",
      "  |===========================================================           |  85%\r",
      "  |                                                                            \r",
      "  |==============================================================        |  88%\r",
      "  |                                                                            \r",
      "  |=================================================================     |  93%\r",
      "  |                                                                            \r",
      "  |===================================================================== |  99%\r",
      "  |                                                                            \r",
      "  |======================================================================| 100%\n"
     ]
    }
   ],
   "source": [
    "df <- NULL\n",
    "gc()\n",
    "df <- h2o.createFrame(rows = 336000000, cols = 32, categorical_fraction = 0,\n",
    "                      integer_fraction = 0, binary_fraction = 0,\n",
    "                      binary_ones_fraction = 0, missing_fraction = 0)"
   ]
  },
  {
   "cell_type": "code",
   "execution_count": 52,
   "metadata": {},
   "outputs": [
    {
     "data": {
      "text/plain": [
       "         C1        C2        C3        C4         C5         C6        C7\n",
       "1 -21.22972 -98.56272  81.60624  41.81655 -83.753389 -54.036459 -16.73950\n",
       "2 -26.26252  33.15718  17.61158  17.83232  34.940838 -78.145536 -46.25824\n",
       "3  74.12259 -91.46005 -54.00837  10.29198 -23.002498 -19.895773 -23.64977\n",
       "4  28.72845  22.26179  36.34223  77.51876 -92.472448  55.474583 -23.69481\n",
       "5 -42.46142 -54.00732  96.12744 -20.98691  -6.365382 -83.291144 -28.20301\n",
       "6  44.34489  40.04760 -64.10963  16.93279  37.440819  -8.008711  31.02277\n",
       "         C8        C9       C10        C11       C12       C13       C14\n",
       "1 -96.74473 -79.11350 -78.95526  32.521082  30.74635 -84.85907 -24.01032\n",
       "2 -71.58389  31.23519  13.34330 -32.385822  31.58212 -17.77635  46.70049\n",
       "3 -55.88463 -59.23711  35.82149  42.183242  83.31969  88.75458  89.10989\n",
       "4 -52.49546 -11.77948 -22.89594  84.405666 -68.42680 -37.35888 -73.30693\n",
       "5  53.48357 -54.21382  77.64335  48.304796  35.19814 -35.49984 -96.17345\n",
       "6  87.31734  88.30117 -54.81197   1.898494 -41.24267   1.90964 -87.12193\n",
       "         C15       C16        C17       C18         C19       C20       C21\n",
       "1  -8.318731  68.87485  70.848210 -61.46200  -5.5517556  56.84747  47.34143\n",
       "2  39.619156 -49.95535   9.315042 -39.20006  58.1921074 -97.89616 -72.12444\n",
       "3 -10.315622  73.19784 -17.112165 -64.60080 -22.1427870 -53.63744 -27.43957\n",
       "4 -45.204834  20.66234 -43.672583  56.39172   0.4765846 -75.19619 -24.68007\n",
       "5 -60.125554  16.01642  13.224016 -82.18159  67.9501002 -21.68361  62.33307\n",
       "6  85.489808 -99.88531  98.973454 -94.67263  99.5977748 -32.10456  43.33747\n",
       "       C22        C23        C24       C25        C26       C27        C28\n",
       "1 17.67331  15.786632 -76.484731  43.15780 -57.401939 -15.73168  -2.680273\n",
       "2 28.49701  30.937690 -45.973771 -91.59074  22.950205 -31.41774 -26.385442\n",
       "3 34.72534  -7.150782 -72.429587  47.77284  67.102929 -51.40663 -13.571848\n",
       "4 97.44471  78.715563 -99.814637 -75.93352 -73.110188 -50.78381 -51.853442\n",
       "5 13.73042 -12.162106  -2.142029 -69.33019   4.455994 -85.07417 -96.031924\n",
       "6 72.79471  96.583022 -22.748800 -17.63294  97.695064  91.69806  26.057931\n",
       "         C29       C30        C31        C32\n",
       "1 -27.369652 -66.04255   1.943315   8.875060\n",
       "2  31.221403 -27.55994 -51.258650  52.212716\n",
       "3  -3.968968 -28.97406   5.976483  -3.595849\n",
       "4 -36.846843 -84.77514 -61.669807 -75.812018\n",
       "5 -72.051727 -71.83363 -16.066733 -84.370256\n",
       "6  -8.850528  66.28403 -41.001462 -99.161697\n",
       "\n",
       "[336000000 rows x 32 columns] "
      ]
     },
     "metadata": {},
     "output_type": "display_data"
    }
   ],
   "source": [
    "df"
   ]
  },
  {
   "cell_type": "markdown",
   "metadata": {},
   "source": [
    "# k-means\n",
    "https://www.rdocumentation.org/packages/h2o/versions/3.10.5.3/topics/h2o.kmeans"
   ]
  },
  {
   "cell_type": "code",
   "execution_count": 53,
   "metadata": {},
   "outputs": [
    {
     "name": "stdout",
     "output_type": "stream",
     "text": [
      "  |======================================================================| 100%\n",
      "Time difference of 1.815095 mins\n"
     ]
    }
   ],
   "source": [
    "start <- Sys.time()\n",
    "res <- h2o.kmeans(df, k=10)\n",
    "end <- Sys.time()\n",
    "print(end - start)"
   ]
  },
  {
   "cell_type": "code",
   "execution_count": 54,
   "metadata": {},
   "outputs": [
    {
     "data": {
      "text/plain": [
       "Model Details:\n",
       "==============\n",
       "\n",
       "H2OClusteringModel: kmeans\n",
       "Model ID:  KMeans_model_R_1502820981828_19 \n",
       "Model Summary: \n",
       "  number_of_rows number_of_clusters number_of_categorical_columns\n",
       "1      336000000                 10                             0\n",
       "  number_of_iterations within_cluster_sum_of_squares total_sum_of_squares\n",
       "1                   10              9855948725.90349    10751999968.00000\n",
       "  between_cluster_sum_of_squares\n",
       "1                896051242.09651\n",
       "\n",
       "\n",
       "H2OClusteringMetrics: kmeans\n",
       "** Reported on training data. **\n",
       "\n",
       "\n",
       "Total Within SS:  9855718051\n",
       "Between SS:  896281918\n",
       "Total SS:  1.0752e+10 \n",
       "Centroid Statistics: \n",
       "   centroid           size within_cluster_sum_of_squares\n",
       "1         1 33802416.00000               991804548.87979\n",
       "2         2 33629008.00000               986488939.59956\n",
       "3         3 33503594.00000               982535133.27364\n",
       "4         4 33609985.00000               985974443.76029\n",
       "5         5 33579352.00000               984897233.44583\n",
       "6         6 33643340.00000               986980119.67898\n",
       "7         7 33567612.00000               984588763.14581\n",
       "8         8 33582652.00000               985016321.80739\n",
       "9         9 33594547.00000               985351542.34560\n",
       "10       10 33487494.00000               982081004.64211\n",
       "\n",
       "\n"
      ]
     },
     "metadata": {},
     "output_type": "display_data"
    }
   ],
   "source": [
    "res"
   ]
  },
  {
   "cell_type": "code",
   "execution_count": null,
   "metadata": {
    "collapsed": true
   },
   "outputs": [],
   "source": []
  }
 ],
 "metadata": {
  "kernelspec": {
   "display_name": "R",
   "language": "R",
   "name": "ir"
  },
  "language_info": {
   "codemirror_mode": "r",
   "file_extension": ".r",
   "mimetype": "text/x-r-source",
   "name": "R",
   "pygments_lexer": "r",
   "version": "3.2.3"
  }
 },
 "nbformat": 4,
 "nbformat_minor": 2
}
