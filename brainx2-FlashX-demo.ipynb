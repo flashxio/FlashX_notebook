{
 "cells": [
  {
   "cell_type": "code",
   "execution_count": 1,
   "metadata": {
    "scrolled": true
   },
   "outputs": [
    {
     "name": "stderr",
     "output_type": "stream",
     "text": [
      "Loading required package: igraph\n",
      "\n",
      "Attaching package: 'igraph'\n",
      "\n",
      "The following objects are masked from 'package:stats':\n",
      "\n",
      "    decompose, spectrum\n",
      "\n",
      "The following object is masked from 'package:base':\n",
      "\n",
      "    union\n",
      "\n",
      "Loading required package: Rcpp\n",
      "Loading required package: FlashR\n",
      "Loading required package: RSpectra\n",
      "\n",
      "Attaching package: 'FlashR'\n",
      "\n",
      "The following objects are masked from 'package:base':\n",
      "\n",
      "    cbind, pmax, pmin, rbind\n",
      "\n"
     ]
    }
   ],
   "source": [
    "library(FlashGraphR)"
   ]
  },
  {
   "cell_type": "markdown",
   "metadata": {},
   "source": [
    "# Human Brain Graph Data\n",
    "\n",
    "The graph is generated from diffusion MRI on human brains. In this graph, a vertex is a voxel and an edge represents the connection between two voxels by fibers."
   ]
  },
  {
   "cell_type": "code",
   "execution_count": 7,
   "metadata": {
    "collapsed": true
   },
   "outputs": [],
   "source": [
    "fg <- fg.load.graph(\"/home/test/KKI2009_142_2_bg.ncol\", attr.type = \"D\", directed = FALSE, in.mem = TRUE)"
   ]
  },
  {
   "cell_type": "markdown",
   "metadata": {},
   "source": [
    "## Extract the largest connected component"
   ]
  },
  {
   "cell_type": "code",
   "execution_count": 24,
   "metadata": {
    "collapsed": true
   },
   "outputs": [],
   "source": [
    "cc <- fg.clusters(fg, mode=\"weak\")\n",
    "tcc <- fm.table(cc)\n",
    "max.idx <- which(as.vector(tcc@Freq == max(tcc@Freq)))\n",
    "lccV <- which(as.vector(cc == 1))\n",
    "lcc <- fg.fetch.subgraph(fg, vertices=lccV - 1, compress=TRUE)"
   ]
  },
  {
   "cell_type": "markdown",
   "metadata": {},
   "source": [
    "## Spectral embedding on the largest connected component"
   ]
  },
  {
   "cell_type": "code",
   "execution_count": 27,
   "metadata": {
    "collapsed": true
   },
   "outputs": [],
   "source": [
    "spm <- fg.get.sparse.matrix(lcc)\n",
    "mul <- function(x, extra) spm %*% x\n",
    "res <- fm.eigen(mul, 10, nrow(spm), which=\"LM\", sym=TRUE)"
   ]
  },
  {
   "cell_type": "code",
   "execution_count": 28,
   "metadata": {},
   "outputs": [
    {
     "data": {
      "text/html": [
       "<ol class=list-inline>\n",
       "\t<li>799.136022310901</li>\n",
       "\t<li>686.526293379657</li>\n",
       "\t<li>594.607368939191</li>\n",
       "\t<li>544.98827399924</li>\n",
       "\t<li>542.266767662399</li>\n",
       "\t<li>500.715138643374</li>\n",
       "\t<li>491.970135366591</li>\n",
       "\t<li>483.223211122375</li>\n",
       "\t<li>470.911987346745</li>\n",
       "\t<li>468.860254561628</li>\n",
       "</ol>\n"
      ],
      "text/latex": [
       "\\begin{enumerate*}\n",
       "\\item 799.136022310901\n",
       "\\item 686.526293379657\n",
       "\\item 594.607368939191\n",
       "\\item 544.98827399924\n",
       "\\item 542.266767662399\n",
       "\\item 500.715138643374\n",
       "\\item 491.970135366591\n",
       "\\item 483.223211122375\n",
       "\\item 470.911987346745\n",
       "\\item 468.860254561628\n",
       "\\end{enumerate*}\n"
      ],
      "text/markdown": [
       "1. 799.136022310901\n",
       "2. 686.526293379657\n",
       "3. 594.607368939191\n",
       "4. 544.98827399924\n",
       "5. 542.266767662399\n",
       "6. 500.715138643374\n",
       "7. 491.970135366591\n",
       "8. 483.223211122375\n",
       "9. 470.911987346745\n",
       "10. 468.860254561628\n",
       "\n",
       "\n"
      ],
      "text/plain": [
       " [1] 799.1360 686.5263 594.6074 544.9883 542.2668 500.7151 491.9701 483.2232\n",
       " [9] 470.9120 468.8603"
      ]
     },
     "metadata": {},
     "output_type": "display_data"
    }
   ],
   "source": [
    "res$values"
   ]
  },
  {
   "cell_type": "code",
   "execution_count": null,
   "metadata": {
    "collapsed": true
   },
   "outputs": [],
   "source": [
    "library(MASS)\n",
    "data <- fm.get.dense.matrix(\"MRN.mat\")\n",
    "load(\"/mnt/nfs2/zhengda/MRN.label\")"
   ]
  }
 ],
 "metadata": {
  "kernelspec": {
   "display_name": "R",
   "language": "R",
   "name": "ir"
  },
  "language_info": {
   "codemirror_mode": "r",
   "file_extension": ".r",
   "mimetype": "text/x-r-source",
   "name": "R",
   "pygments_lexer": "r",
   "version": "3.4.0"
  }
 },
 "nbformat": 4,
 "nbformat_minor": 2
}
