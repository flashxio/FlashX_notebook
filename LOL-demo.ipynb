{
 "cells": [
  {
   "cell_type": "code",
   "execution_count": 1,
   "metadata": {
    "scrolled": true
   },
   "outputs": [
    {
     "name": "stderr",
     "output_type": "stream",
     "text": [
      "Loading required package: pcg\n",
      "Loading required package: FlashR\n",
      "Loading required package: RSpectra\n",
      "Loading required package: Rcpp\n",
      "\n",
      "Attaching package: 'FlashR'\n",
      "\n",
      "The following objects are masked from 'package:base':\n",
      "\n",
      "    cbind, pmax, pmin, rbind\n",
      "\n"
     ]
    }
   ],
   "source": [
    "library(FlashRLearn)\n",
    "fm.set.conf(\"/FlashX/EC2/run_matrix.txt\")"
   ]
  },
  {
   "cell_type": "code",
   "execution_count": 5,
   "metadata": {},
   "outputs": [
    {
     "data": {
      "text/plain": [
       "NULL"
      ]
     },
     "metadata": {},
     "output_type": "display_data"
    }
   ],
   "source": [
    "fm.set.test.na(FALSE)"
   ]
  },
  {
   "cell_type": "code",
   "execution_count": 2,
   "metadata": {
    "collapsed": true
   },
   "outputs": [],
   "source": [
    "mvrnorm <-\n",
    "    function(n = 1, mu, Sigma_diag, tol=1e-6, empirical = FALSE, EISPACK = FALSE)\n",
    "{\n",
    "    p <- length(mu)\n",
    "    if(!all(length(Sigma_diag) == p)) stop(\"incompatible arguments\")\n",
    "    if(EISPACK) stop(\"'EISPACK' is no longer supported by R\", domain = NA)\n",
    "    X <- fm.rnorm.matrix(n, p)\n",
    "    if(empirical) {\n",
    "        X <- scale(X, TRUE, FALSE) # remove means\n",
    "        X <- X %*% fm.svd(X, nu = 0)$v # rotate to PCs\n",
    "        X <- scale(X, FALSE, TRUE) # rescale PCs to unit variance\n",
    "    }\n",
    "    X <- fm.mapply.row(X, Sigma_diag, \"*\")\n",
    "    X <- fm.mapply.row(X, drop(mu), \"+\")\n",
    "    if(n == 1) drop(X) else t(X)\n",
    "}\n",
    "\n",
    "mix.mvrnorm <- function(n, p, m)\n",
    "{\n",
    "    mats <- list()\n",
    "    for (i in 1:m)\n",
    "        mats <- c(mats, mvrnorm(n, runif(p), runif(p)))\n",
    "    list(X = fm.cbind.list(mats), y=c(rep(0, n), rep(1, n)))\n",
    "}\n",
    "\n",
    "mix <- mix.mvrnorm(100, 1000000, 2)\n",
    "data <- mix$X\n",
    "labels <- mix$y"
   ]
  },
  {
   "cell_type": "code",
   "execution_count": 7,
   "metadata": {},
   "outputs": [
    {
     "name": "stdout",
     "output_type": "stream",
     "text": [
      "[1] \"#samples: 200\"\n",
      "[1] \"#features: 1e+06\"\n",
      "[1] \"size in bytes: 1.6e+09\"\n"
     ]
    }
   ],
   "source": [
    "print(paste(\"#samples:\", ncol(data)))\n",
    "print(paste(\"#features:\", nrow(data)))\n",
    "print(paste(\"size in bytes:\", length(data) * 8))"
   ]
  },
  {
   "cell_type": "code",
   "execution_count": 3,
   "metadata": {
    "collapsed": true
   },
   "outputs": [],
   "source": [
    "embed.classifier <- function(data, labels, proj=c(\"LOL\", \"LAL\", \"QOQ\", \"PCA\"), red.p=1)\n",
    "{\n",
    "\tif (proj == \"LOL\")\n",
    "\t\tproj <- LOL(data, fm.conv.R2FM(as.integer(labels)), red.p, type=\"svd\")\n",
    "\telse if (proj == \"LAL\")\n",
    "\t\tproj <- LOL(data, fm.conv.R2FM(as.integer(labels)), red.p, type=\"rand_sparse\")\n",
    "\telse if (proj == \"QOQ\")\n",
    "\t\tproj <- QOQ(data, fm.conv.R2FM(as.integer(labels)), red.p)\n",
    "\telse if (proj == \"PCA\") {\n",
    "\t\tmu <- rowMeans(data)\n",
    "\t\tcenter.mat <- sweep(data, 1, mu, \"-\")\n",
    "\t\tres <- fm.svd(t(center.mat), red.p, red.p)\n",
    "\t\tproj <- res$v\n",
    "\t}\n",
    "}\n",
    "\n",
    "train.classifier <- function(data, labels, proj, method=\"lda\")\n",
    "{\n",
    "\tproj.res <- t(data) %*% proj\n",
    "\tif (method == \"lda\")\n",
    "\t\tres <- lda(as.matrix(fm.conv.FM2R(proj.res)), as.factor(labels))\n",
    "\telse if (method == \"qda\")\n",
    "\t\tres <- qda(as.matrix(fm.conv.FM2R(proj.res)), as.factor(labels))\n",
    "\telse\n",
    "\t\tres <- NULL\n",
    "\tlist(proj=proj, res=res)\n",
    "}\n",
    "\n",
    "predict.classifier <- function(object, newdata)\n",
    "{\n",
    "\tproj.res <- t(newdata) %*% object$proj\n",
    "\tpredict(object=object$res, newdata=as.matrix(fm.conv.FM2R(proj.res)))\n",
    "}\n",
    "\n",
    "rand.split.test <- function(data, labels, count, train.percent, red.ps)\n",
    "{\n",
    "\ttrain.size <- as.integer(ncol(data) * train.percent)\n",
    "\tfor (run in 1:count) {\n",
    "\t\tidxs <- 1:ncol(data)\n",
    "\t\ttrain.idxs <- sort(sample(idxs, train.size))\n",
    "\t\ttest.idxs <- which(is.na(pmatch(idxs, train.idxs)))\n",
    "\t\ttrain <- data[,train.idxs]\n",
    "\t\ttest <- data[,test.idxs]\n",
    "\t\ttrain.labels <- labels[train.idxs]\n",
    "\t\ttruth <- labels[test.idxs]+1\n",
    "\t\tprint(\"truth:\")\n",
    "\t\tprint(truth)\n",
    "\n",
    "\t\tproj <- embed.classifier(train, train.labels, proj=\"LOL\", max(red.ps))\n",
    "\t\tfor (red.p in red.ps) {\n",
    "\t\t\tres <- train.classifier(train, train.labels, proj[, 1:red.p], method=\"lda\")\n",
    "\t\t\tpred <- predict.classifier(object=res, newdata=test)\n",
    "\t\t\tprint(\"LOL+LDA predict:\")\n",
    "\t\t\tprint(pred$class)\n",
    "\t\t\t# measure the accuracy\n",
    "\t\t\tout <- paste(\"LOL-\", red.p, \"dim: \",\n",
    "\t\t\t\t\t\t sum((as.integer(pred$class) - truth) != 0)/length(pred$class), sep=\"\")\n",
    "\t\t\tprint(out)\n",
    "\n",
    "\t\t\tres <- train.classifier(train, train.labels, proj[, 2:min(red.p + 1, ncol(proj))], method=\"lda\")\n",
    "\t\t\tpred <- predict.classifier(object=res, newdata=test)\n",
    "\t\t\tprint(\"RR-LDA predict:\")\n",
    "\t\t\tprint(pred$class)\n",
    "\t\t\t# measure the accuracy\n",
    "\t\t\tout <- paste(\"RR-LDA-\", red.p, \"dim: \",\n",
    "\t\t\t\t\t\t sum((as.integer(pred$class) - truth) != 0)/length(pred$class), sep=\"\")\n",
    "\t\t\tprint(out)\n",
    "\t\t\tres <- NULL\n",
    "\t\t\tgc()\n",
    "\t\t}\n",
    "\t\tproj <- NULL\n",
    "\t\tgc()\n",
    "\n",
    "\t\tproj <- embed.classifier(train, train.labels, proj=\"PCA\", max(red.ps))\n",
    "\t\tfor (red.p in red.ps) {\n",
    "\t\t\tres <- train.classifier(train, train.labels, proj[, 1:red.p], method=\"lda\")\n",
    "\t\t\tpred <- predict.classifier(object=res, newdata=test)\n",
    "\t\t\tprint(\"PCA+LDA predict:\")\n",
    "\t\t\tprint(pred$class)\n",
    "\t\t\t# measure the accuracy\n",
    "\t\t\tout <- paste(\"PCA-\", red.p, \"dim: \",\n",
    "\t\t\t\t\t\t sum((as.integer(pred$class) - truth) != 0)/length(pred$class), sep=\"\")\n",
    "\t\t\tprint(out)\n",
    "\t\t\tres <- NULL\n",
    "\t\t\tgc()\n",
    "\t\t}\n",
    "\t\tproj <- NULL\n",
    "\t\tgc()\n",
    "\t}\n",
    "}"
   ]
  },
  {
   "cell_type": "code",
   "execution_count": 6,
   "metadata": {},
   "outputs": [
    {
     "name": "stdout",
     "output_type": "stream",
     "text": [
      "[1] \"truth:\"\n",
      " [1] 1 1 1 1 1 1 1 1 2 2 2 2 2 2 2 2 2 2 2 2\n",
      "[1] \"LOL+LDA predict:\"\n",
      " [1] 0 0 0 0 0 0 0 0 1 1 1 1 1 1 1 1 1 1 1 1\n",
      "Levels: 0 1\n",
      "[1] \"LOL-1dim: 0\"\n",
      "[1] \"RR-LDA predict:\"\n",
      " [1] 0 0 0 0 0 0 0 0 0 0 0 0 0 0 0 0 0 0 0 0\n",
      "Levels: 0 1\n",
      "[1] \"RR-LDA-1dim: 0.6\"\n",
      "[1] \"LOL+LDA predict:\"\n",
      " [1] 0 0 0 0 0 0 0 0 1 1 1 1 1 1 1 1 1 1 1 1\n",
      "Levels: 0 1\n",
      "[1] \"LOL-10dim: 0\"\n",
      "[1] \"RR-LDA predict:\"\n",
      " [1] 0 0 0 0 0 0 0 0 0 0 0 0 0 0 0 0 0 0 0 0\n",
      "Levels: 0 1\n",
      "[1] \"RR-LDA-10dim: 0.6\"\n",
      "[1] \"LOL+LDA predict:\"\n",
      " [1] 0 0 0 0 0 0 0 0 1 1 1 1 1 1 1 1 1 1 1 1\n",
      "Levels: 0 1\n",
      "[1] \"LOL-20dim: 0\"\n",
      "[1] \"RR-LDA predict:\"\n",
      " [1] 0 0 0 0 0 0 0 0 0 0 0 0 0 0 0 0 0 0 0 0\n",
      "Levels: 0 1\n",
      "[1] \"RR-LDA-20dim: 0.6\"\n",
      "[1] \"LOL+LDA predict:\"\n",
      " [1] 0 0 0 0 0 0 0 0 1 1 1 1 1 1 1 1 1 1 1 1\n",
      "Levels: 0 1\n",
      "[1] \"LOL-30dim: 0\"\n",
      "[1] \"RR-LDA predict:\"\n",
      " [1] 0 0 0 0 0 0 0 0 0 0 0 0 0 0 0 0 0 0 0 0\n",
      "Levels: 0 1\n",
      "[1] \"RR-LDA-30dim: 0.6\"\n",
      "[1] \"LOL+LDA predict:\"\n",
      " [1] 0 0 0 0 0 0 0 0 1 1 1 1 1 1 1 1 1 1 1 1\n",
      "Levels: 0 1\n",
      "[1] \"LOL-40dim: 0\"\n",
      "[1] \"RR-LDA predict:\"\n",
      " [1] 0 0 0 0 0 0 0 0 0 0 0 0 0 0 0 0 0 0 0 0\n",
      "Levels: 0 1\n",
      "[1] \"RR-LDA-40dim: 0.6\"\n",
      "[1] \"LOL+LDA predict:\"\n",
      " [1] 0 0 0 0 0 0 0 0 1 1 1 1 1 1 1 1 1 1 1 1\n",
      "Levels: 0 1\n",
      "[1] \"LOL-50dim: 0\"\n",
      "[1] \"RR-LDA predict:\"\n",
      " [1] 0 0 0 0 0 0 0 0 0 0 0 0 0 0 0 0 0 0 0 0\n",
      "Levels: 0 1\n",
      "[1] \"RR-LDA-50dim: 0.6\"\n",
      "[1] \"LOL+LDA predict:\"\n",
      " [1] 0 0 0 0 0 0 0 0 1 1 1 1 1 1 1 1 1 1 1 1\n",
      "Levels: 0 1\n",
      "[1] \"LOL-60dim: 0\"\n",
      "[1] \"RR-LDA predict:\"\n",
      " [1] 0 0 0 0 0 0 0 0 0 0 0 0 0 0 0 0 0 0 0 0\n",
      "Levels: 0 1\n",
      "[1] \"RR-LDA-60dim: 0.6\"\n",
      "[1] \"LOL+LDA predict:\"\n",
      " [1] 0 0 0 0 0 0 0 0 1 1 1 1 1 1 1 1 1 1 1 1\n",
      "Levels: 0 1\n",
      "[1] \"LOL-70dim: 0\"\n",
      "[1] \"RR-LDA predict:\"\n",
      " [1] 0 0 0 0 0 0 0 0 0 0 0 0 0 0 0 0 0 0 0 0\n",
      "Levels: 0 1\n",
      "[1] \"RR-LDA-70dim: 0.6\"\n",
      "[1] \"LOL+LDA predict:\"\n",
      " [1] 0 0 0 0 0 0 0 0 1 1 1 1 1 1 1 1 1 1 1 1\n",
      "Levels: 0 1\n",
      "[1] \"LOL-80dim: 0\"\n",
      "[1] \"RR-LDA predict:\"\n",
      " [1] 0 0 0 0 0 0 0 0 0 0 0 0 0 0 0 0 0 0 0 0\n",
      "Levels: 0 1\n",
      "[1] \"RR-LDA-80dim: 0.6\"\n",
      "[1] \"LOL+LDA predict:\"\n",
      " [1] 0 0 0 0 0 0 0 0 1 1 1 1 1 1 1 1 1 1 1 1\n",
      "Levels: 0 1\n",
      "[1] \"LOL-90dim: 0\"\n",
      "[1] \"RR-LDA predict:\"\n",
      " [1] 0 0 0 0 0 0 0 0 0 0 0 0 0 0 0 0 0 0 0 0\n",
      "Levels: 0 1\n",
      "[1] \"RR-LDA-90dim: 0.6\"\n",
      "[1] \"LOL+LDA predict:\"\n",
      " [1] 0 0 0 0 0 0 0 0 1 1 1 1 1 1 1 1 1 1 1 1\n",
      "Levels: 0 1\n",
      "[1] \"LOL-100dim: 0\"\n",
      "[1] \"RR-LDA predict:\"\n",
      " [1] 0 0 0 0 0 0 0 0 0 0 0 0 0 0 0 0 0 0 0 0\n",
      "Levels: 0 1\n",
      "[1] \"RR-LDA-100dim: 0.6\"\n",
      "[1] \"PCA+LDA predict:\"\n",
      " [1] 0 0 0 0 0 0 0 0 1 1 1 1 1 1 1 1 1 1 1 1\n",
      "Levels: 0 1\n",
      "[1] \"PCA-1dim: 0\"\n",
      "[1] \"PCA+LDA predict:\"\n",
      " [1] 0 0 0 0 0 0 0 0 1 1 1 1 1 1 1 1 1 1 1 1\n",
      "Levels: 0 1\n",
      "[1] \"PCA-10dim: 0\"\n",
      "[1] \"PCA+LDA predict:\"\n",
      " [1] 0 0 0 0 0 0 0 0 1 1 1 1 1 1 1 1 1 1 1 1\n",
      "Levels: 0 1\n",
      "[1] \"PCA-20dim: 0\"\n",
      "[1] \"PCA+LDA predict:\"\n",
      " [1] 0 0 0 0 0 0 0 0 1 1 1 1 1 1 1 1 1 1 1 1\n",
      "Levels: 0 1\n",
      "[1] \"PCA-30dim: 0\"\n",
      "[1] \"PCA+LDA predict:\"\n",
      " [1] 0 0 0 0 0 0 0 0 1 1 1 1 1 1 1 1 1 1 1 1\n",
      "Levels: 0 1\n",
      "[1] \"PCA-40dim: 0\"\n",
      "[1] \"PCA+LDA predict:\"\n",
      " [1] 0 0 0 0 0 0 0 0 1 1 1 1 1 1 1 1 1 1 1 1\n",
      "Levels: 0 1\n",
      "[1] \"PCA-50dim: 0\"\n",
      "[1] \"PCA+LDA predict:\"\n",
      " [1] 0 0 0 0 0 0 0 0 1 1 1 1 1 1 1 1 1 1 1 1\n",
      "Levels: 0 1\n",
      "[1] \"PCA-60dim: 0\"\n",
      "[1] \"PCA+LDA predict:\"\n",
      " [1] 0 0 0 0 0 0 0 0 1 1 1 1 1 1 1 1 1 1 1 1\n",
      "Levels: 0 1\n",
      "[1] \"PCA-70dim: 0\"\n",
      "[1] \"PCA+LDA predict:\"\n",
      " [1] 0 0 0 0 0 0 0 0 1 1 1 1 1 1 1 1 1 1 1 1\n",
      "Levels: 0 1\n",
      "[1] \"PCA-80dim: 0\"\n",
      "[1] \"PCA+LDA predict:\"\n",
      " [1] 0 0 0 0 0 0 0 0 1 1 1 1 1 1 1 1 1 1 1 1\n",
      "Levels: 0 1\n",
      "[1] \"PCA-90dim: 0\"\n",
      "[1] \"PCA+LDA predict:\"\n",
      " [1] 0 0 0 0 0 0 0 0 1 1 1 1 1 1 1 1 1 1 1 1\n",
      "Levels: 0 1\n",
      "[1] \"PCA-100dim: 0\"\n"
     ]
    }
   ],
   "source": [
    "library(MASS)\n",
    "rand.split.test(data, labels, 1, 0.9, c(1, seq(10, 100, 10)))"
   ]
  },
  {
   "cell_type": "code",
   "execution_count": 7,
   "metadata": {},
   "outputs": [
    {
     "data": {
      "text/plain": [
       "NULL"
      ]
     },
     "metadata": {},
     "output_type": "display_data"
    }
   ],
   "source": [
    "dim(data)"
   ]
  },
  {
   "cell_type": "code",
   "execution_count": null,
   "metadata": {
    "collapsed": true
   },
   "outputs": [],
   "source": []
  }
 ],
 "metadata": {
  "kernelspec": {
   "display_name": "R",
   "language": "R",
   "name": "ir"
  },
  "language_info": {
   "codemirror_mode": "r",
   "file_extension": ".r",
   "mimetype": "text/x-r-source",
   "name": "R",
   "pygments_lexer": "r",
   "version": "3.4.1"
  }
 },
 "nbformat": 4,
 "nbformat_minor": 2
}
