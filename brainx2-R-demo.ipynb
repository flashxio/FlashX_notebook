{
 "cells": [
  {
   "cell_type": "code",
   "execution_count": 1,
   "metadata": {
    "scrolled": true
   },
   "outputs": [
    {
     "name": "stderr",
     "output_type": "stream",
     "text": [
      "\n",
      "Attaching package: 'igraph'\n",
      "\n",
      "The following objects are masked from 'package:stats':\n",
      "\n",
      "    decompose, spectrum\n",
      "\n",
      "The following object is masked from 'package:base':\n",
      "\n",
      "    union\n",
      "\n"
     ]
    }
   ],
   "source": [
    "library(igraph)"
   ]
  },
  {
   "cell_type": "markdown",
   "metadata": {},
   "source": [
    "# Human Brain Graph Data\n",
    "\n",
    "The graph is generated from diffusion MRI on human brains. In this graph, a vertex is a voxel\n",
    "and an edge represents the connection between two voxels by fibers."
   ]
  },
  {
   "cell_type": "code",
   "execution_count": 2,
   "metadata": {
    "collapsed": true
   },
   "outputs": [],
   "source": [
    "g <- read_graph(\"/home/test/KKI2009_142_2_bg.ncol\", format=\"ncol\", directed=FALSE)"
   ]
  },
  {
   "cell_type": "markdown",
   "metadata": {},
   "source": [
    "## Extract the largest connected component"
   ]
  },
  {
   "cell_type": "code",
   "execution_count": 3,
   "metadata": {},
   "outputs": [
    {
     "name": "stderr",
     "output_type": "stream",
     "text": [
      "Warning message in .Call(\"R_igraph_subgraph\", graph, as.igraph.vs(graph, v) - 1, :\n",
      "\"At structural_properties.c:1945 :igraph_subgraph is deprecated from igraph 0.6, use igraph_induced_subgraph instead\""
     ]
    }
   ],
   "source": [
    "cc <- clusters(g, mode = \"weak\")\n",
    "tcc <- as.data.frame(table(cc$membership))\n",
    "max.idx <- which(as.vector(tcc$Freq == max(tcc$Freq)))\n",
    "lccV <- which(as.vector(cc$membership == tcc$Var1[max.idx]))\n",
    "subg <- subgraph(g, lccV)"
   ]
  },
  {
   "cell_type": "markdown",
   "metadata": {},
   "source": [
    "## Spectral embedding on the largest connected component"
   ]
  },
  {
   "cell_type": "code",
   "execution_count": null,
   "metadata": {},
   "outputs": [
    {
     "name": "stderr",
     "output_type": "stream",
     "text": [
      "IOPub data rate exceeded.\n",
      "The notebook server will temporarily stop sending output\n",
      "to the client in order to avoid crashing it.\n",
      "To change this limit, set the config variable\n",
      "`--NotebookApp.iopub_data_rate_limit`.\n"
     ]
    }
   ],
   "source": [
    "spm <- as_adj(subg, type=\"both\")\n",
    "mul <- function(x, extra) spm %*% x\n",
    "res <- arpack(mul, sym = TRUE, options = list(n=vcount(g), nev=10, ncv=20, which=\"LM\", tol=1e-6))"
   ]
  },
  {
   "cell_type": "code",
   "execution_count": 81,
   "metadata": {},
   "outputs": [
    {
     "data": {
      "text/html": [
       "40008394"
      ],
      "text/latex": [
       "40008394"
      ],
      "text/markdown": [
       "40008394"
      ],
      "text/plain": [
       "[1] 40008394"
      ]
     },
     "metadata": {},
     "output_type": "display_data"
    }
   ],
   "source": []
  },
  {
   "cell_type": "code",
   "execution_count": null,
   "metadata": {
    "collapsed": true
   },
   "outputs": [],
   "source": []
  }
 ],
 "metadata": {
  "kernelspec": {
   "display_name": "R",
   "language": "R",
   "name": "ir"
  },
  "language_info": {
   "codemirror_mode": "r",
   "file_extension": ".r",
   "mimetype": "text/x-r-source",
   "name": "R",
   "pygments_lexer": "r",
   "version": "3.4.0"
  }
 },
 "nbformat": 4,
 "nbformat_minor": 2
}
