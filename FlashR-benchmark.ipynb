{
 "cells": [
  {
   "cell_type": "code",
   "execution_count": 1,
   "metadata": {},
   "outputs": [
    {
     "name": "stderr",
     "output_type": "stream",
     "text": [
      "Loading required package: pcg\n",
      "Loading required package: FlashR\n",
      "Loading required package: RSpectra\n",
      "Loading required package: Rcpp\n",
      "\n",
      "Attaching package: 'FlashR'\n",
      "\n",
      "The following objects are masked from 'package:base':\n",
      "\n",
      "    cbind, pmax, pmin, rbind\n",
      "\n"
     ]
    }
   ],
   "source": [
    "library(FlashRLearn)\n",
    "fm.set.conf(\"/FlashX/EC2/run_matrix.txt\")"
   ]
  },
  {
   "cell_type": "code",
   "execution_count": 2,
   "metadata": {
    "collapsed": true
   },
   "outputs": [],
   "source": [
    "data <- fm.runif.matrix(325000000, 40, min = 0, max=1000)\n",
    "data <- as.integer(data)\n",
    "data <- fm.materialize(data)"
   ]
  },
  {
   "cell_type": "code",
   "execution_count": 3,
   "metadata": {
    "collapsed": true
   },
   "outputs": [],
   "source": [
    "y <- fm.materialize(fm.runif(325000000) > 0.5)"
   ]
  },
  {
   "cell_type": "code",
   "execution_count": 4,
   "metadata": {
    "collapsed": true
   },
   "outputs": [],
   "source": [
    "fm.print.mat.info(data)\n",
    "fm.print.mat.info(y)"
   ]
  },
  {
   "cell_type": "code",
   "execution_count": 5,
   "metadata": {},
   "outputs": [
    {
     "data": {
      "text/plain": [
       "NULL"
      ]
     },
     "metadata": {},
     "output_type": "display_data"
    }
   ],
   "source": [
    "fm.set.test.na(FALSE)"
   ]
  },
  {
   "cell_type": "code",
   "execution_count": 6,
   "metadata": {},
   "outputs": [
    {
     "name": "stdout",
     "output_type": "stream",
     "text": [
      "Time difference of 10.777 secs\n"
     ]
    }
   ],
   "source": [
    "#for (i in 1:5) {\n",
    "    start <- Sys.time()\n",
    "    res <- cor(data)\n",
    "    end <- Sys.time()\n",
    "    print(end - start)\n",
    "#}"
   ]
  },
  {
   "cell_type": "code",
   "execution_count": 7,
   "metadata": {},
   "outputs": [
    {
     "name": "stdout",
     "output_type": "stream",
     "text": [
      "Time difference of 7.960912 secs\n"
     ]
    }
   ],
   "source": [
    "#for (i in 1:5) {\n",
    "    start <- Sys.time()\n",
    "    res <- fm.svd(data, nu=0, nv=ncol(data))\n",
    "    end <- Sys.time()\n",
    "    print(end - start)\n",
    "#}"
   ]
  },
  {
   "cell_type": "code",
   "execution_count": 8,
   "metadata": {},
   "outputs": [
    {
     "name": "stdout",
     "output_type": "stream",
     "text": [
      "Time difference of 5.226341 secs\n"
     ]
    }
   ],
   "source": [
    "start <- Sys.time()\n",
    "res <- naiveBayes.train(data, y)\n",
    "end <- Sys.time()\n",
    "print(end - start)"
   ]
  },
  {
   "cell_type": "code",
   "execution_count": 9,
   "metadata": {
    "collapsed": true
   },
   "outputs": [],
   "source": [
    "data1 <- fm.runif.matrix(336000000, 32, min = 0, max=1000)"
   ]
  },
  {
   "cell_type": "code",
   "execution_count": 10,
   "metadata": {},
   "outputs": [
    {
     "name": "stdout",
     "output_type": "stream",
     "text": [
      "KMeans takes 5 iterations and 41.1684 seconds\n",
      "Time difference of 49.91022 secs\n"
     ]
    }
   ],
   "source": [
    "start <- Sys.time()\n",
    "res <- fm.kmeans(data1, 10, iter.max = 5, use.blas = TRUE)\n",
    "end <- Sys.time()\n",
    "print(end - start)"
   ]
  },
  {
   "cell_type": "code",
   "execution_count": 19,
   "metadata": {
    "collapsed": true
   },
   "outputs": [],
   "source": [
    "esti.cov.full <- function(X, resp, nk, means, reg.covar)\n",
    "{\n",
    "\tk <- nrow(means)\n",
    "\td <- ncol(means)\n",
    "\tcovs <- list()\n",
    "\tfor (i in 1:k) {\n",
    "\t\tdiff <- sweep(X, 2, means[i,], \"-\")\n",
    "\t\tcovs[[i]] <- t(resp[,i] * diff) %*% diff / nk[i]\n",
    "\t}\n",
    "\tlapply(covs, function(x) as.matrix(x) + diag(rep(reg.covar, d)))\n",
    "}\n",
    "\n",
    "# In this case, we assume all Gaussian distribution has the same covariance matrix.\n",
    "esti.cov.tied <- function(X, resp, nk, means, reg.covar)\n",
    "{\n",
    "\tavg.X2 <- t(X) %*% X\n",
    "\tavg.means2 <- t(means * nk) %*% means\n",
    "\tas.matrix((avg.X2 - avg.means2) / sum(nk)) + diag(rep(reg.covar, d))\n",
    "}\n",
    "\n",
    "esti.cov.diag <- function(X, resp, nk, means, reg.covar)\n",
    "{\n",
    "\tavg.X2 <- t(resp) %*% (X * X) / nk\n",
    "\tavg.means2 <- means^2\n",
    "\tavg.Xmeans <- means * (t(resp) %*% X) / nk\n",
    "\tcovars <- as.matrix(avg.X2 - 2*avg.Xmeans + avg.means2)\n",
    "\tifelse(covars < reg.covar, reg.covar, covars)\n",
    "}\n",
    "\n",
    "esti.cov.spherical <- function(X, resp, nk, means, reg.covar)\n",
    "{\n",
    "\trowMeans(esti.cov.diag(X, resp, nk, means, reg.covar))\n",
    "}\n",
    "\n",
    "# This estimate the parameters of Mixture of Gaussian\n",
    "esti.gaussian.params <- function(X, resp, reg.covar, cov.type)\n",
    "{\n",
    "\tn <- nrow(X)\n",
    "\tnk <- colSums(resp)\n",
    "\t# a k x d matrix. Each row is the mean of a component.\n",
    "\tmeans <- t(resp) %*% X / nk\n",
    "\t# a list of covariance matrices for all components.\n",
    "\tcovs <- if (cov.type == \"full\") esti.cov.full(X, resp, nk, means, reg.covar)\n",
    "\t\telse if (cov.type == \"tied\") esti.cov.tied(X, resp, nk, means, reg.covar)\n",
    "\t\telse if (cov.type == \"diag\") esti.cov.diag(X, resp, nk, means, reg.covar)\n",
    "\t\telse if (cov.type == \"spherical\") esti.cov.spherical(X, resp, nk, means, reg.covar)\n",
    "\t\telse NULL\n",
    "\tlist(weights=as.vector(nk)/n, means=as.matrix(means), covs=covs)\n",
    "}\n",
    "\n",
    "init.params <- function(X, k, reg.covar, method, cov.type)\n",
    "{\n",
    "\tN <- nrow(X)\n",
    "\tif (method == \"kmeans\") {\n",
    "\t\tres <- fm.kmeans(X, k, 100)\n",
    "\t\tresp <- fm.matrix(0, nrow(X), k)\n",
    "\t\tidx <- cbind(fm.seq.int(1, nrow(X), 1), res$cluster)\n",
    "\t\tresp[idx] <- 1\n",
    "\t\t# Estimate weights, means and covariances\n",
    "\t\tparams <- esti.gaussian.params(X, resp, reg.covar, cov.type)\n",
    "\t\tlist(weights=params$weights, means=params$means, covs=params$covs)\n",
    "\t}\n",
    "\telse if (method == \"random\") {\n",
    "\t\tresp <- fm.runif.matrix(N, k, in.mem=fm.in.mem(X))\n",
    "\t\t# each row needs to sum up to 1.\n",
    "\t\tresp <- resp / rowSums(resp)\n",
    "\t\t# Estimate weights, means and covariances\n",
    "\t\tparams <- esti.gaussian.params(X, resp, reg.covar, cov.type)\n",
    "\t\tlist(weights=params$weights, means=params$means, covs=params$covs)\n",
    "\t}\n",
    "\telse if (method == \"random_params\") {\n",
    "\t\tm <- dim(X)[1]\n",
    "\t\trand.k <- floor(runif(k, 1, m))\n",
    "\t\tmus <- X[rand.k,]\n",
    "\t\tinit.covar <- cov(X)\n",
    "\t\tcovars <- list()\n",
    "\t\tfor (i in 1:k)\n",
    "\t\t\tcovars[[i]] <- init.covar\n",
    "\t\tphi <- rep.int(1/m, k)\n",
    "\t\tlist(weights=phi, means=mus, covs=covars)\n",
    "\t}\n",
    "\telse\n",
    "\t\tstop(\"unknown init method\")\n",
    "}\n",
    "\n",
    "est.logprob <- function(X, means, covars, cov.type)\n",
    "{\n",
    "\tn <- nrow(X)\n",
    "\td <- ncol(X)\n",
    "\tk <- nrow(means)\n",
    "\n",
    "\tcomp.logprob.vec <- function(X, mu, covar.vec) {\n",
    "\t\tX1 <- sweep(X, 2, mu, \"-\")\n",
    "\t\tX2 <- sweep(X1, 2, covar.vec, \"/\")\n",
    "\t\trowSums(X2 * X1)\n",
    "\t}\n",
    "\n",
    "\tif (cov.type == \"full\") {\n",
    "\t\tlogprob <- list()\n",
    "\t\tfor (i in 1:k)\n",
    "\t\t\tlogprob[[i]] <- fm.dmvnorm(X, means[i,], covars[[i]], log=TRUE)\n",
    "\t\treturn(do.call(cbind, logprob))\n",
    "\t}\n",
    "\telse if (cov.type == \"tied\") {\n",
    "\t\tlogprob <- list()\n",
    "\t\tfor (i in 1:k)\n",
    "\t\t\tlogprob[[i]] <- fm.dmvnorm(X, means[i,], covars, log=TRUE)\n",
    "\t\treturn(do.call(cbind, logprob))\n",
    "\t}\n",
    "\telse if (cov.type == \"diag\") {\n",
    "\t\tlogprob <- list()\n",
    "\t\tfor (i in 1:k) {\n",
    "\t\t\tlogprob[[i]] <- comp.logprob.vec(X, means[i,], covars[i,])\n",
    "\t\t\tlogprob[[i]] <- -sum(log(covars[i,]))/2 - 0.5 * (d * log(2 * pi) + logprob[[i]])\n",
    "\t\t}\n",
    "\t\treturn(do.call(cbind, logprob))\n",
    "\t}\n",
    "\telse if (cov.type == \"spherical\") {\n",
    "\t\tlogprob <- list()\n",
    "\t\tfor (i in 1:k) {\n",
    "\t\t\tlogprob[[i]] <- comp.logprob.vec(X, means[i,], rep(covars[i], d))\n",
    "\t\t\tlogprob[[i]] <- -log(covars[i])*d/2 - 0.5 * (d * log(2 * pi) + logprob[[i]])\n",
    "\t\t}\n",
    "\t\treturn(do.call(cbind, logprob))\n",
    "\t}\n",
    "}\n",
    "\n",
    "est.weighted.logprob <- function(X, means, covars, cov.type, weights)\n",
    "{\n",
    "\tret <- est.logprob(X, means, covars, cov.type)\n",
    "#\tret <- fm.materialize(est.logprob(X, means, covars, cov.type))\n",
    "\tsweep(ret, 2, log(weights), \"+\")\n",
    "}\n",
    "\n",
    "logsumexp <- function(X)\n",
    "{\n",
    "\tmax.X <- fm.agg.mat(X, 1, fm.bo.max)\n",
    "\tlog(rowSums(exp(X - max.X))) + max.X\n",
    "}\n",
    "\n",
    "# Estimate the log likelihood\n",
    "# @return norm\n",
    "# @return resp is a n x k matrix. It indicates the probability\n",
    "#        that a data point belongs to a cluster.\n",
    "fm.estep <- function(X, params, cov.type)\n",
    "{\n",
    "\tweighted.logprob <- est.weighted.logprob(X, params$means,\n",
    "\t\t\t\t\t\t\t\t\t\t\t params$covs, cov.type,\n",
    "\t\t\t\t\t\t\t\t\t\t\t params$weights)\n",
    "\tlogprob.norm <- logsumexp(weighted.logprob)\n",
    "\tlog.resp <- weighted.logprob - logprob.norm\n",
    "\tnorm <- mean(logprob.norm)\n",
    "\tfm.materialize(log.resp, logprob.norm, norm)\n",
    "\tlist(norm=as.vector(norm), resp=log.resp)\n",
    "}\n",
    "\n",
    "# This estimate the parameters.\n",
    "fm.mstep <- function(X, log.resp, reg.covar, cov.type)\n",
    "{\n",
    "\tparams <- esti.gaussian.params(X, exp(log.resp), reg.covar, cov.type)\n",
    "\tlist(weights=params$weights, means=params$means, covs=params$covs)\n",
    "}\n",
    "\n",
    "compute.lower.bound <- function(log.resp, log.norm)\n",
    "{\n",
    "\tlog.norm\n",
    "}\n",
    "\n",
    "# Fit a mixture of Gaussian distribution on the data.\n",
    "#\n",
    "# @param X is a n x d matrix. It's the input data.\n",
    "# @param k the number of components.\n",
    "# @param reg.covar is a real value. It's added to the diagonal of\n",
    "#        the covariance matrix to make it non-singular.\n",
    "# @param cov.type is the type of covariance matrix. It can be\n",
    "#        one of {\"full\", \"tied\", \"diag\", \"spherical\"}.\n",
    "#        \\itemize{\n",
    "#        \\item{\"full\"}{each component has its own general covariance matrix.}\n",
    "#        \\item{\"tied\"}{all components share the same general covariance matrix.}\n",
    "#        \\item{\"diag\"}{each component has its own diagonal covariance matrix.}\n",
    "#        \\item{\"spherical\"}{each component has its own single variance.}\n",
    "#        }\n",
    "# @return \n",
    "#        \\itemize{\n",
    "#        \\item{loglik}{a n x k matrix, whose \\code{[i, k]}th entry is\n",
    "#                the conditional probability of the ith observation\n",
    "#                belonging to the kth component of the mixture.}\n",
    "#        \\item{iter}{the number of iterations}\n",
    "#        \\item{parameters}{parameters of the mixture of Gaussian distribution.\n",
    "#             \\itemize{\n",
    "#             \\item{weights}{a vector of k elements. Each element is\n",
    "#              the weight of the Gaussian distribution in the mixture.}\n",
    "#             \\item{means}{a k x d matrix. Each row is the mean of a Gaussian distribution.}\n",
    "#             \\item{covs}{a list of matrices, a matrix or a vector, depending on \\code{cov.type}}}\n",
    "#        }\n",
    "GMM.fit <- function(X, k, max.iter=100, tol=1e-3, reg.covar=1e-6,\n",
    "\t\t\t\t\tmethod=c(\"random\", \"random_params\", \"kmeans\"),\n",
    "\t\t\t\t\tcov.type=c(\"full\", \"tied\", \"diag\", \"spherical\"))\n",
    "{\n",
    "\tmethod <- match.arg(method)\n",
    "\tcov.type <- match.arg(cov.type)\n",
    "\tparams <- init.params(X, k, reg.covar, method, cov.type)\n",
    "\tfor (i in 1:max.iter) {\n",
    "\t\teret <- fm.estep(X, params, cov.type)\n",
    "\t\tparams <- fm.mstep(X, eret$resp, reg.covar, cov.type)\n",
    "\t\tlb <- compute.lower.bound(eret$resp, eret$norm)\n",
    "\t\tif (i > 5 && abs(lb - prev.lb) < tol)\n",
    "\t\t\tbreak\n",
    "\t\tprev.lb <- lb\n",
    "\t\tgc()\n",
    "\t}\n",
    "\tstructure(list(loglik=eret$resp, score=eret$norm, iter=i,\n",
    "\t\t\t\t   cov.type=cov.type, parameters=params), class=\"GMM\")\n",
    "}\n"
   ]
  },
  {
   "cell_type": "code",
   "execution_count": 20,
   "metadata": {},
   "outputs": [
    {
     "name": "stdout",
     "output_type": "stream",
     "text": [
      "Time difference of 20.30929 mins\n"
     ]
    }
   ],
   "source": [
    "start <- Sys.time()\n",
    "res <- GMM.fit(data1, 10, max.iter = 5, method = \"random_params\")\n",
    "end <- Sys.time()\n",
    "print(end - start)"
   ]
  },
  {
   "cell_type": "code",
   "execution_count": 16,
   "metadata": {
    "collapsed": true
   },
   "outputs": [],
   "source": [
    "emdata <- fm.conv.store(data, in.mem = FALSE)\n",
    "emy <- fm.conv.store(y, in.mem = FALSE)"
   ]
  },
  {
   "cell_type": "code",
   "execution_count": 12,
   "metadata": {},
   "outputs": [
    {
     "name": "stdout",
     "output_type": "stream",
     "text": [
      "Time difference of 11.23371 secs\n"
     ]
    }
   ],
   "source": [
    "#for (i in 1:5) {\n",
    "    start <- Sys.time()\n",
    "    res <- cor(emdata)\n",
    "    end <- Sys.time()\n",
    "    print(end - start)\n",
    "#}"
   ]
  },
  {
   "cell_type": "code",
   "execution_count": 13,
   "metadata": {},
   "outputs": [
    {
     "name": "stdout",
     "output_type": "stream",
     "text": [
      "Time difference of 8.299418 secs\n"
     ]
    }
   ],
   "source": [
    "#for (i in 1:5) {\n",
    "    start <- Sys.time()\n",
    "    res <- fm.svd(emdata, nu=0, nv=ncol(data))\n",
    "    end <- Sys.time()\n",
    "    print(end - start)\n",
    "#}"
   ]
  },
  {
   "cell_type": "code",
   "execution_count": 17,
   "metadata": {},
   "outputs": [
    {
     "name": "stdout",
     "output_type": "stream",
     "text": [
      "Time difference of 6.054668 secs\n"
     ]
    }
   ],
   "source": [
    "start <- Sys.time()\n",
    "res <- naiveBayes.train(emdata, emy)\n",
    "end <- Sys.time()\n",
    "print(end - start)"
   ]
  },
  {
   "cell_type": "code",
   "execution_count": 14,
   "metadata": {
    "collapsed": true
   },
   "outputs": [],
   "source": [
    "emdata1 <- fm.conv.store(data1, in.mem = FALSE)"
   ]
  },
  {
   "cell_type": "code",
   "execution_count": 15,
   "metadata": {},
   "outputs": [
    {
     "name": "stdout",
     "output_type": "stream",
     "text": [
      "KMeans takes 5 iterations and 59.61842 seconds\n",
      "Time difference of 1.182798 mins\n"
     ]
    }
   ],
   "source": [
    "start <- Sys.time()\n",
    "res <- fm.kmeans(emdata1, 10, iter.max = 5, use.blas = TRUE)\n",
    "end <- Sys.time()\n",
    "print(end - start)"
   ]
  },
  {
   "cell_type": "code",
   "execution_count": 21,
   "metadata": {},
   "outputs": [
    {
     "name": "stdout",
     "output_type": "stream",
     "text": [
      "Time difference of 20.80116 mins\n"
     ]
    }
   ],
   "source": [
    "start <- Sys.time()\n",
    "res <- GMM.fit(emdata1, 10, max.iter = 5, method = \"random_params\")\n",
    "end <- Sys.time()\n",
    "print(end - start)"
   ]
  },
  {
   "cell_type": "code",
   "execution_count": null,
   "metadata": {
    "collapsed": true
   },
   "outputs": [],
   "source": []
  }
 ],
 "metadata": {
  "kernelspec": {
   "display_name": "R",
   "language": "R",
   "name": "ir"
  },
  "language_info": {
   "codemirror_mode": "r",
   "file_extension": ".r",
   "mimetype": "text/x-r-source",
   "name": "R",
   "pygments_lexer": "r",
   "version": "3.4.1"
  }
 },
 "nbformat": 4,
 "nbformat_minor": 2
}
