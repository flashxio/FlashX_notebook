{
 "cells": [
  {
   "cell_type": "code",
   "execution_count": 1,
   "metadata": {},
   "outputs": [
    {
     "name": "stderr",
     "output_type": "stream",
     "text": [
      "Loading required package: pcg\n",
      "Loading required package: FlashR\n",
      "Loading required package: RSpectra\n",
      "Loading required package: Rcpp\n",
      "\n",
      "Attaching package: 'FlashR'\n",
      "\n",
      "The following objects are masked from 'package:base':\n",
      "\n",
      "    cbind, pmax, pmin, rbind\n",
      "\n"
     ]
    },
    {
     "data": {
      "text/plain": [
       "NULL"
      ]
     },
     "metadata": {},
     "output_type": "display_data"
    }
   ],
   "source": [
    "library(FlashRLearn)\n",
    "fm.set.conf(\"/FlashX/EC2/run_matrix.txt\")\n",
    "fm.set.test.na(FALSE)"
   ]
  },
  {
   "cell_type": "markdown",
   "metadata": {},
   "source": [
    "# Read a real data\n",
    "Read from the very original source."
   ]
  },
  {
   "cell_type": "code",
   "execution_count": null,
   "metadata": {
    "collapsed": true
   },
   "outputs": [],
   "source": [
    "data <- fm.read.obj(\"/mnt/data//Criteo_2days.mat\")"
   ]
  },
  {
   "cell_type": "markdown",
   "metadata": {},
   "source": [
    "Read from SSDs"
   ]
  },
  {
   "cell_type": "code",
   "execution_count": 2,
   "metadata": {
    "collapsed": true
   },
   "outputs": [],
   "source": [
    "emdata <- fm.get.dense.matrix(\"Criteo.mat\")\n",
    "data <- fm.conv.store(emdata, in.mem=TRUE)"
   ]
  },
  {
   "cell_type": "code",
   "execution_count": 3,
   "metadata": {},
   "outputs": [],
   "source": [
    "y <- data[,1]\n",
    "x <- data[,2:40]"
   ]
  },
  {
   "cell_type": "code",
   "execution_count": null,
   "metadata": {},
   "outputs": [],
   "source": [
    "emdata <- fm.conv.store(data, in.mem = FALSE, name=\"Criteo.mat\")"
   ]
  },
  {
   "cell_type": "markdown",
   "metadata": {},
   "source": [
    "# Generate a synthetic data of similar size"
   ]
  },
  {
   "cell_type": "code",
   "execution_count": null,
   "metadata": {
    "collapsed": true
   },
   "outputs": [],
   "source": [
    "data <- fm.runif.matrix(325000000, 40, min = 0, max=1000)\n",
    "data <- as.integer(data)\n",
    "data <- fm.materialize(data)\n",
    "emdata <- fm.conv.store(data, in.mem = FALSE, name=\"random.mat\")"
   ]
  },
  {
   "cell_type": "code",
   "execution_count": 3,
   "metadata": {
    "collapsed": true
   },
   "outputs": [],
   "source": [
    "y <- fm.materialize(data[,1] > 0.5)\n",
    "x <- data[,2:40]"
   ]
  },
  {
   "cell_type": "markdown",
   "metadata": {},
   "source": [
    "# Benchmark in-memory performance"
   ]
  },
  {
   "cell_type": "code",
   "execution_count": 4,
   "metadata": {},
   "outputs": [
    {
     "name": "stdout",
     "output_type": "stream",
     "text": [
      "Time difference of 10.24339 secs\n"
     ]
    }
   ],
   "source": [
    "#for (i in 1:5) {\n",
    "    start <- Sys.time()\n",
    "    res <- cor(data)\n",
    "    end <- Sys.time()\n",
    "    print(end - start)\n",
    "#}"
   ]
  },
  {
   "cell_type": "code",
   "execution_count": 5,
   "metadata": {},
   "outputs": [
    {
     "name": "stdout",
     "output_type": "stream",
     "text": [
      "Time difference of 9.52385 secs\n"
     ]
    }
   ],
   "source": [
    "#for (i in 1:5) {\n",
    "    start <- Sys.time()\n",
    "    res <- prcomp(data, retx=FALSE)\n",
    "    end <- Sys.time()\n",
    "    print(end - start)\n",
    "#}"
   ]
  },
  {
   "cell_type": "code",
   "execution_count": 6,
   "metadata": {},
   "outputs": [
    {
     "name": "stdout",
     "output_type": "stream",
     "text": [
      "Time difference of 4.181429 secs\n"
     ]
    }
   ],
   "source": [
    "start <- Sys.time()\n",
    "res <- naiveBayes.train(x, y)\n",
    "end <- Sys.time()\n",
    "print(end - start)"
   ]
  },
  {
   "cell_type": "code",
   "execution_count": 8,
   "metadata": {},
   "outputs": [
    {
     "data": {
      "text/html": [
       "<table>\n",
       "<thead><tr><th></th><th scope=col>used</th><th scope=col>(Mb)</th><th scope=col>gc trigger</th><th scope=col>(Mb)</th><th scope=col>max used</th><th scope=col>(Mb)</th></tr></thead>\n",
       "<tbody>\n",
       "\t<tr><th scope=row>Ncells</th><td>1424920</td><td>76.1   </td><td>2164898</td><td>115.7  </td><td>2164898</td><td>115.7  </td></tr>\n",
       "\t<tr><th scope=row>Vcells</th><td>1418510</td><td>10.9   </td><td>2382142</td><td> 18.2  </td><td>1990277</td><td> 15.2  </td></tr>\n",
       "</tbody>\n",
       "</table>\n"
      ],
      "text/latex": [
       "\\begin{tabular}{r|llllll}\n",
       "  & used & (Mb) & gc trigger & (Mb) & max used & (Mb)\\\\\n",
       "\\hline\n",
       "\tNcells & 1424920 & 76.1    & 2164898 & 115.7   & 2164898 & 115.7  \\\\\n",
       "\tVcells & 1418510 & 10.9    & 2382142 &  18.2   & 1990277 &  15.2  \\\\\n",
       "\\end{tabular}\n"
      ],
      "text/markdown": [
       "\n",
       "| <!--/--> | used | (Mb) | gc trigger | (Mb) | max used | (Mb) | \n",
       "|---|---|\n",
       "| Ncells | 1424920 | 76.1    | 2164898 | 115.7   | 2164898 | 115.7   | \n",
       "| Vcells | 1418510 | 10.9    | 2382142 |  18.2   | 1990277 |  15.2   | \n",
       "\n",
       "\n"
      ],
      "text/plain": [
       "       used    (Mb) gc trigger (Mb)  max used (Mb) \n",
       "Ncells 1424920 76.1 2164898    115.7 2164898  115.7\n",
       "Vcells 1418510 10.9 2382142     18.2 1990277   15.2"
      ]
     },
     "metadata": {},
     "output_type": "display_data"
    },
    {
     "name": "stdout",
     "output_type": "stream",
     "text": [
      "Iteration 1: \n",
      "fx = 0.345227\n",
      "\n",
      "  xnorm = 1, gnorm = 0.237696, step = 2.13487\n",
      "\n",
      "Iteration 2: \n",
      "fx = 0.191088\n",
      "\n",
      "  xnorm = 2.04532, gnorm = 0.106568, step = 1\n",
      "\n",
      "Iteration 3: \n",
      "fx = 0.160283\n",
      "\n",
      "  xnorm = 2.8301, gnorm = 0.0997518, step = 1\n",
      "\n",
      "Iteration 4: \n",
      "fx = 0.14168\n",
      "\n",
      "  xnorm = 3.16955, gnorm = 0.0269789, step = 1\n",
      "\n",
      "Iteration 5: \n",
      "fx = 0.138995\n",
      "\n",
      "  xnorm = 3.342, gnorm = 0.0110867, step = 1\n",
      "\n",
      "Iteration 6: \n",
      "fx = 0.138094\n",
      "\n",
      "  xnorm = 3.47367, gnorm = 0.00461146, step = 1\n",
      "\n",
      "Iteration 7: \n",
      "fx = 0.1378\n",
      "\n",
      "  xnorm = 3.53629, gnorm = 0.0035362, step = 1\n",
      "\n",
      "Iteration 8: \n",
      "fx = 0.137676\n",
      "\n",
      "  xnorm = 3.59411, gnorm = 0.00502946, step = 1\n",
      "\n",
      "Iteration 9: \n",
      "fx = 0.13758\n",
      "\n",
      "  xnorm = 3.59036, gnorm = 0.00184809, step = 1\n",
      "\n",
      "Iteration 10: \n",
      "fx = 0.137556\n",
      "\n",
      "  xnorm = 3.58265, gnorm = 0.00119976, step = 1\n",
      "\n",
      "Iteration 11: \n",
      "fx = 0.137538\n",
      "\n",
      "  xnorm = 3.57972, gnorm = 0.00119646, step = 1\n",
      "\n",
      "Iteration 12: \n",
      "fx = 0.137516\n",
      "\n",
      "  xnorm = 3.58036, gnorm = 0.00125034, step = 1\n",
      "\n",
      "L-BFGS optimization terminated with status code = -997\n",
      "fx = 0.137516\n",
      "\n"
     ]
    }
   ],
   "source": [
    "gc()\n",
    "start <- Sys.time()\n",
    "res <- logistic.regression(x, y, method=\"L-BFGS-B\", max.iters=12)\n",
    "end <- Sys.time()\n",
    "print(end - start)"
   ]
  },
  {
   "cell_type": "code",
   "execution_count": 10,
   "metadata": {
    "collapsed": true
   },
   "outputs": [],
   "source": [
    "data1 <- fm.runif.matrix(336000000, 32, min = 0, max=1000)"
   ]
  },
  {
   "cell_type": "code",
   "execution_count": 11,
   "metadata": {},
   "outputs": [
    {
     "name": "stdout",
     "output_type": "stream",
     "text": [
      "KMeans takes 5 iterations and 30.0517 seconds\n",
      "Time difference of 40.61406 secs\n"
     ]
    }
   ],
   "source": [
    "start <- Sys.time()\n",
    "res <- fm.kmeans(data1, 10, iter.max = 5, use.blas = TRUE)\n",
    "end <- Sys.time()\n",
    "print(end - start)"
   ]
  },
  {
   "cell_type": "code",
   "execution_count": 19,
   "metadata": {
    "collapsed": true
   },
   "outputs": [],
   "source": [
    "esti.cov.full <- function(X, resp, nk, means, reg.covar)\n",
    "{\n",
    "\tk <- nrow(means)\n",
    "\td <- ncol(means)\n",
    "\tcovs <- list()\n",
    "\tfor (i in 1:k) {\n",
    "\t\tdiff <- sweep(X, 2, means[i,], \"-\")\n",
    "\t\tcovs[[i]] <- t(resp[,i] * diff) %*% diff / nk[i]\n",
    "\t}\n",
    "\tlapply(covs, function(x) as.matrix(x) + diag(rep(reg.covar, d)))\n",
    "}\n",
    "\n",
    "# In this case, we assume all Gaussian distribution has the same covariance matrix.\n",
    "esti.cov.tied <- function(X, resp, nk, means, reg.covar)\n",
    "{\n",
    "\tavg.X2 <- t(X) %*% X\n",
    "\tavg.means2 <- t(means * nk) %*% means\n",
    "\tas.matrix((avg.X2 - avg.means2) / sum(nk)) + diag(rep(reg.covar, d))\n",
    "}\n",
    "\n",
    "esti.cov.diag <- function(X, resp, nk, means, reg.covar)\n",
    "{\n",
    "\tavg.X2 <- t(resp) %*% (X * X) / nk\n",
    "\tavg.means2 <- means^2\n",
    "\tavg.Xmeans <- means * (t(resp) %*% X) / nk\n",
    "\tcovars <- as.matrix(avg.X2 - 2*avg.Xmeans + avg.means2)\n",
    "\tifelse(covars < reg.covar, reg.covar, covars)\n",
    "}\n",
    "\n",
    "esti.cov.spherical <- function(X, resp, nk, means, reg.covar)\n",
    "{\n",
    "\trowMeans(esti.cov.diag(X, resp, nk, means, reg.covar))\n",
    "}\n",
    "\n",
    "# This estimate the parameters of Mixture of Gaussian\n",
    "esti.gaussian.params <- function(X, resp, reg.covar, cov.type)\n",
    "{\n",
    "\tn <- nrow(X)\n",
    "\tnk <- colSums(resp)\n",
    "\t# a k x d matrix. Each row is the mean of a component.\n",
    "\tmeans <- t(resp) %*% X / nk\n",
    "\t# a list of covariance matrices for all components.\n",
    "\tcovs <- if (cov.type == \"full\") esti.cov.full(X, resp, nk, means, reg.covar)\n",
    "\t\telse if (cov.type == \"tied\") esti.cov.tied(X, resp, nk, means, reg.covar)\n",
    "\t\telse if (cov.type == \"diag\") esti.cov.diag(X, resp, nk, means, reg.covar)\n",
    "\t\telse if (cov.type == \"spherical\") esti.cov.spherical(X, resp, nk, means, reg.covar)\n",
    "\t\telse NULL\n",
    "\tlist(weights=as.vector(nk)/n, means=as.matrix(means), covs=covs)\n",
    "}\n",
    "\n",
    "init.params <- function(X, k, reg.covar, method, cov.type)\n",
    "{\n",
    "\tN <- nrow(X)\n",
    "\tif (method == \"kmeans\") {\n",
    "\t\tres <- fm.kmeans(X, k, 100)\n",
    "\t\tresp <- fm.matrix(0, nrow(X), k)\n",
    "\t\tidx <- cbind(fm.seq.int(1, nrow(X), 1), res$cluster)\n",
    "\t\tresp[idx] <- 1\n",
    "\t\t# Estimate weights, means and covariances\n",
    "\t\tparams <- esti.gaussian.params(X, resp, reg.covar, cov.type)\n",
    "\t\tlist(weights=params$weights, means=params$means, covs=params$covs)\n",
    "\t}\n",
    "\telse if (method == \"random\") {\n",
    "\t\tresp <- fm.runif.matrix(N, k, in.mem=fm.in.mem(X))\n",
    "\t\t# each row needs to sum up to 1.\n",
    "\t\tresp <- resp / rowSums(resp)\n",
    "\t\t# Estimate weights, means and covariances\n",
    "\t\tparams <- esti.gaussian.params(X, resp, reg.covar, cov.type)\n",
    "\t\tlist(weights=params$weights, means=params$means, covs=params$covs)\n",
    "\t}\n",
    "\telse if (method == \"random_params\") {\n",
    "\t\tm <- dim(X)[1]\n",
    "\t\trand.k <- floor(runif(k, 1, m))\n",
    "\t\tmus <- X[rand.k,]\n",
    "\t\tinit.covar <- cov(X)\n",
    "\t\tcovars <- list()\n",
    "\t\tfor (i in 1:k)\n",
    "\t\t\tcovars[[i]] <- init.covar\n",
    "\t\tphi <- rep.int(1/m, k)\n",
    "\t\tlist(weights=phi, means=mus, covs=covars)\n",
    "\t}\n",
    "\telse\n",
    "\t\tstop(\"unknown init method\")\n",
    "}\n",
    "\n",
    "est.logprob <- function(X, means, covars, cov.type)\n",
    "{\n",
    "\tn <- nrow(X)\n",
    "\td <- ncol(X)\n",
    "\tk <- nrow(means)\n",
    "\n",
    "\tcomp.logprob.vec <- function(X, mu, covar.vec) {\n",
    "\t\tX1 <- sweep(X, 2, mu, \"-\")\n",
    "\t\tX2 <- sweep(X1, 2, covar.vec, \"/\")\n",
    "\t\trowSums(X2 * X1)\n",
    "\t}\n",
    "\n",
    "\tif (cov.type == \"full\") {\n",
    "\t\tlogprob <- list()\n",
    "\t\tfor (i in 1:k)\n",
    "\t\t\tlogprob[[i]] <- fm.dmvnorm(X, means[i,], covars[[i]], log=TRUE)\n",
    "\t\treturn(do.call(cbind, logprob))\n",
    "\t}\n",
    "\telse if (cov.type == \"tied\") {\n",
    "\t\tlogprob <- list()\n",
    "\t\tfor (i in 1:k)\n",
    "\t\t\tlogprob[[i]] <- fm.dmvnorm(X, means[i,], covars, log=TRUE)\n",
    "\t\treturn(do.call(cbind, logprob))\n",
    "\t}\n",
    "\telse if (cov.type == \"diag\") {\n",
    "\t\tlogprob <- list()\n",
    "\t\tfor (i in 1:k) {\n",
    "\t\t\tlogprob[[i]] <- comp.logprob.vec(X, means[i,], covars[i,])\n",
    "\t\t\tlogprob[[i]] <- -sum(log(covars[i,]))/2 - 0.5 * (d * log(2 * pi) + logprob[[i]])\n",
    "\t\t}\n",
    "\t\treturn(do.call(cbind, logprob))\n",
    "\t}\n",
    "\telse if (cov.type == \"spherical\") {\n",
    "\t\tlogprob <- list()\n",
    "\t\tfor (i in 1:k) {\n",
    "\t\t\tlogprob[[i]] <- comp.logprob.vec(X, means[i,], rep(covars[i], d))\n",
    "\t\t\tlogprob[[i]] <- -log(covars[i])*d/2 - 0.5 * (d * log(2 * pi) + logprob[[i]])\n",
    "\t\t}\n",
    "\t\treturn(do.call(cbind, logprob))\n",
    "\t}\n",
    "}\n",
    "\n",
    "est.weighted.logprob <- function(X, means, covars, cov.type, weights)\n",
    "{\n",
    "\tret <- est.logprob(X, means, covars, cov.type)\n",
    "#\tret <- fm.materialize(est.logprob(X, means, covars, cov.type))\n",
    "\tsweep(ret, 2, log(weights), \"+\")\n",
    "}\n",
    "\n",
    "logsumexp <- function(X)\n",
    "{\n",
    "\tmax.X <- fm.agg.mat(X, 1, fm.bo.max)\n",
    "\tlog(rowSums(exp(X - max.X))) + max.X\n",
    "}\n",
    "\n",
    "# Estimate the log likelihood\n",
    "# @return norm\n",
    "# @return resp is a n x k matrix. It indicates the probability\n",
    "#        that a data point belongs to a cluster.\n",
    "fm.estep <- function(X, params, cov.type)\n",
    "{\n",
    "\tweighted.logprob <- est.weighted.logprob(X, params$means,\n",
    "\t\t\t\t\t\t\t\t\t\t\t params$covs, cov.type,\n",
    "\t\t\t\t\t\t\t\t\t\t\t params$weights)\n",
    "\tlogprob.norm <- logsumexp(weighted.logprob)\n",
    "\tlog.resp <- weighted.logprob - logprob.norm\n",
    "\tnorm <- mean(logprob.norm)\n",
    "\tfm.materialize(log.resp, logprob.norm, norm)\n",
    "\tlist(norm=as.vector(norm), resp=log.resp)\n",
    "}\n",
    "\n",
    "# This estimate the parameters.\n",
    "fm.mstep <- function(X, log.resp, reg.covar, cov.type)\n",
    "{\n",
    "\tparams <- esti.gaussian.params(X, exp(log.resp), reg.covar, cov.type)\n",
    "\tlist(weights=params$weights, means=params$means, covs=params$covs)\n",
    "}\n",
    "\n",
    "compute.lower.bound <- function(log.resp, log.norm)\n",
    "{\n",
    "\tlog.norm\n",
    "}\n",
    "\n",
    "# Fit a mixture of Gaussian distribution on the data.\n",
    "#\n",
    "# @param X is a n x d matrix. It's the input data.\n",
    "# @param k the number of components.\n",
    "# @param reg.covar is a real value. It's added to the diagonal of\n",
    "#        the covariance matrix to make it non-singular.\n",
    "# @param cov.type is the type of covariance matrix. It can be\n",
    "#        one of {\"full\", \"tied\", \"diag\", \"spherical\"}.\n",
    "#        \\itemize{\n",
    "#        \\item{\"full\"}{each component has its own general covariance matrix.}\n",
    "#        \\item{\"tied\"}{all components share the same general covariance matrix.}\n",
    "#        \\item{\"diag\"}{each component has its own diagonal covariance matrix.}\n",
    "#        \\item{\"spherical\"}{each component has its own single variance.}\n",
    "#        }\n",
    "# @return \n",
    "#        \\itemize{\n",
    "#        \\item{loglik}{a n x k matrix, whose \\code{[i, k]}th entry is\n",
    "#                the conditional probability of the ith observation\n",
    "#                belonging to the kth component of the mixture.}\n",
    "#        \\item{iter}{the number of iterations}\n",
    "#        \\item{parameters}{parameters of the mixture of Gaussian distribution.\n",
    "#             \\itemize{\n",
    "#             \\item{weights}{a vector of k elements. Each element is\n",
    "#              the weight of the Gaussian distribution in the mixture.}\n",
    "#             \\item{means}{a k x d matrix. Each row is the mean of a Gaussian distribution.}\n",
    "#             \\item{covs}{a list of matrices, a matrix or a vector, depending on \\code{cov.type}}}\n",
    "#        }\n",
    "GMM.fit <- function(X, k, max.iter=100, tol=1e-3, reg.covar=1e-6,\n",
    "\t\t\t\t\tmethod=c(\"random\", \"random_params\", \"kmeans\"),\n",
    "\t\t\t\t\tcov.type=c(\"full\", \"tied\", \"diag\", \"spherical\"))\n",
    "{\n",
    "\tmethod <- match.arg(method)\n",
    "\tcov.type <- match.arg(cov.type)\n",
    "\tparams <- init.params(X, k, reg.covar, method, cov.type)\n",
    "\tfor (i in 1:max.iter) {\n",
    "\t\teret <- fm.estep(X, params, cov.type)\n",
    "\t\tparams <- fm.mstep(X, eret$resp, reg.covar, cov.type)\n",
    "\t\tlb <- compute.lower.bound(eret$resp, eret$norm)\n",
    "\t\tif (i > 5 && abs(lb - prev.lb) < tol)\n",
    "\t\t\tbreak\n",
    "\t\tprev.lb <- lb\n",
    "\t\tgc()\n",
    "\t}\n",
    "\tstructure(list(loglik=eret$resp, score=eret$norm, iter=i,\n",
    "\t\t\t\t   cov.type=cov.type, parameters=params), class=\"GMM\")\n",
    "}\n"
   ]
  },
  {
   "cell_type": "code",
   "execution_count": 20,
   "metadata": {},
   "outputs": [
    {
     "name": "stdout",
     "output_type": "stream",
     "text": [
      "Time difference of 20.30929 mins\n"
     ]
    }
   ],
   "source": [
    "start <- Sys.time()\n",
    "res <- GMM.fit(data1, 10, max.iter = 5, method = \"random_params\")\n",
    "end <- Sys.time()\n",
    "print(end - start)"
   ]
  },
  {
   "cell_type": "markdown",
   "metadata": {},
   "source": [
    "# Benchmark external-memory performance"
   ]
  },
  {
   "cell_type": "code",
   "execution_count": 12,
   "metadata": {
    "collapsed": true
   },
   "outputs": [],
   "source": [
    "y <- emdata[,1]\n",
    "x <- emdata[,2:40]"
   ]
  },
  {
   "cell_type": "code",
   "execution_count": 13,
   "metadata": {},
   "outputs": [
    {
     "name": "stdout",
     "output_type": "stream",
     "text": [
      "Time difference of 10.60668 secs\n"
     ]
    }
   ],
   "source": [
    "#for (i in 1:5) {\n",
    "    start <- Sys.time()\n",
    "    res <- cor(emdata)\n",
    "    end <- Sys.time()\n",
    "    print(end - start)\n",
    "#}"
   ]
  },
  {
   "cell_type": "code",
   "execution_count": 14,
   "metadata": {},
   "outputs": [
    {
     "name": "stdout",
     "output_type": "stream",
     "text": [
      "Time difference of 9.63978 secs\n"
     ]
    }
   ],
   "source": [
    "#for (i in 1:5) {\n",
    "    start <- Sys.time()\n",
    "    res <- prcomp(data, retx=FALSE)\n",
    "    end <- Sys.time()\n",
    "    print(end - start)\n",
    "#}"
   ]
  },
  {
   "cell_type": "code",
   "execution_count": 15,
   "metadata": {},
   "outputs": [
    {
     "name": "stdout",
     "output_type": "stream",
     "text": [
      "Time difference of 5.583336 secs\n"
     ]
    }
   ],
   "source": [
    "start <- Sys.time()\n",
    "res <- naiveBayes.train(x, y)\n",
    "end <- Sys.time()\n",
    "print(end - start)"
   ]
  },
  {
   "cell_type": "code",
   "execution_count": 18,
   "metadata": {},
   "outputs": [
    {
     "data": {
      "text/html": [
       "<table>\n",
       "<thead><tr><th></th><th scope=col>used</th><th scope=col>(Mb)</th><th scope=col>gc trigger</th><th scope=col>(Mb)</th><th scope=col>max used</th><th scope=col>(Mb)</th></tr></thead>\n",
       "<tbody>\n",
       "\t<tr><th scope=row>Ncells</th><td>1438900</td><td>76.9   </td><td>2164898</td><td>115.7  </td><td>2164898</td><td>115.7  </td></tr>\n",
       "\t<tr><th scope=row>Vcells</th><td>1443915</td><td>11.1   </td><td>2382142</td><td> 18.2  </td><td>1990277</td><td> 15.2  </td></tr>\n",
       "</tbody>\n",
       "</table>\n"
      ],
      "text/latex": [
       "\\begin{tabular}{r|llllll}\n",
       "  & used & (Mb) & gc trigger & (Mb) & max used & (Mb)\\\\\n",
       "\\hline\n",
       "\tNcells & 1438900 & 76.9    & 2164898 & 115.7   & 2164898 & 115.7  \\\\\n",
       "\tVcells & 1443915 & 11.1    & 2382142 &  18.2   & 1990277 &  15.2  \\\\\n",
       "\\end{tabular}\n"
      ],
      "text/markdown": [
       "\n",
       "| <!--/--> | used | (Mb) | gc trigger | (Mb) | max used | (Mb) | \n",
       "|---|---|\n",
       "| Ncells | 1438900 | 76.9    | 2164898 | 115.7   | 2164898 | 115.7   | \n",
       "| Vcells | 1443915 | 11.1    | 2382142 |  18.2   | 1990277 |  15.2   | \n",
       "\n",
       "\n"
      ],
      "text/plain": [
       "       used    (Mb) gc trigger (Mb)  max used (Mb) \n",
       "Ncells 1438900 76.9 2164898    115.7 2164898  115.7\n",
       "Vcells 1443915 11.1 2382142     18.2 1990277   15.2"
      ]
     },
     "metadata": {},
     "output_type": "display_data"
    },
    {
     "name": "stdout",
     "output_type": "stream",
     "text": [
      "Iteration 1: \n",
      "fx = 0.345227\n",
      "\n",
      "  xnorm = 1, gnorm = 0.237696, step = 2.13487\n",
      "\n",
      "Iteration 2: \n",
      "fx = 0.191088\n",
      "\n",
      "  xnorm = 2.04532, gnorm = 0.106568, step = 1\n",
      "\n",
      "Iteration 3: \n",
      "fx = 0.160283\n",
      "\n",
      "  xnorm = 2.8301, gnorm = 0.0997518, step = 1\n",
      "\n",
      "Iteration 4: \n",
      "fx = 0.14168\n",
      "\n",
      "  xnorm = 3.16955, gnorm = 0.0269789, step = 1\n",
      "\n",
      "Iteration 5: \n",
      "fx = 0.138995\n",
      "\n",
      "  xnorm = 3.342, gnorm = 0.0110867, step = 1\n",
      "\n",
      "Iteration 6: \n",
      "fx = 0.138094\n",
      "\n",
      "  xnorm = 3.47367, gnorm = 0.00461146, step = 1\n",
      "\n",
      "Iteration 7: \n",
      "fx = 0.1378\n",
      "\n",
      "  xnorm = 3.53629, gnorm = 0.0035362, step = 1\n",
      "\n",
      "Iteration 8: \n",
      "fx = 0.137676\n",
      "\n",
      "  xnorm = 3.59411, gnorm = 0.00502946, step = 1\n",
      "\n",
      "Iteration 9: \n",
      "fx = 0.13758\n",
      "\n",
      "  xnorm = 3.59036, gnorm = 0.00184809, step = 1\n",
      "\n",
      "Iteration 10: \n",
      "fx = 0.137556\n",
      "\n",
      "  xnorm = 3.58265, gnorm = 0.00119976, step = 1\n",
      "\n",
      "Iteration 11: \n",
      "fx = 0.137538\n",
      "\n",
      "  xnorm = 3.57972, gnorm = 0.00119646, step = 1\n",
      "\n",
      "Iteration 12: \n",
      "fx = 0.137516\n",
      "\n",
      "  xnorm = 3.58036, gnorm = 0.00125034, step = 1\n",
      "\n",
      "L-BFGS optimization terminated with status code = -997\n",
      "fx = 0.137516\n",
      "\n",
      "Time difference of 1.704135 mins\n"
     ]
    }
   ],
   "source": [
    "gc()\n",
    "source(\"/FlashX/FlashR-learn/R/classification.R\")\n",
    "start <- Sys.time()\n",
    "res <- logistic.regression(x, y, method=\"L-BFGS-B\", max.iters=12)\n",
    "end <- Sys.time()\n",
    "print(end - start)"
   ]
  },
  {
   "cell_type": "code",
   "execution_count": 19,
   "metadata": {
    "collapsed": true
   },
   "outputs": [],
   "source": [
    "emdata1 <- fm.conv.store(data1, in.mem = FALSE)"
   ]
  },
  {
   "cell_type": "code",
   "execution_count": 20,
   "metadata": {},
   "outputs": [
    {
     "name": "stdout",
     "output_type": "stream",
     "text": [
      "KMeans takes 5 iterations and 41.57616 seconds\n",
      "Time difference of 1.248347 mins\n"
     ]
    }
   ],
   "source": [
    "start <- Sys.time()\n",
    "res <- fm.kmeans(emdata1, 10, iter.max = 5, use.blas = TRUE)\n",
    "end <- Sys.time()\n",
    "print(end - start)"
   ]
  },
  {
   "cell_type": "code",
   "execution_count": 21,
   "metadata": {},
   "outputs": [
    {
     "name": "stdout",
     "output_type": "stream",
     "text": [
      "Time difference of 20.80116 mins\n"
     ]
    }
   ],
   "source": [
    "start <- Sys.time()\n",
    "res <- GMM.fit(emdata1, 10, max.iter = 5, method = \"random_params\")\n",
    "end <- Sys.time()\n",
    "print(end - start)"
   ]
  },
  {
   "cell_type": "code",
   "execution_count": 21,
   "metadata": {
    "collapsed": true
   },
   "outputs": [],
   "source": [
    "fm.start.profiler(\"/tmp/logistic.prof\")"
   ]
  },
  {
   "cell_type": "code",
   "execution_count": null,
   "metadata": {
    "collapsed": true
   },
   "outputs": [],
   "source": []
  }
 ],
 "metadata": {
  "kernelspec": {
   "display_name": "R",
   "language": "R",
   "name": "ir"
  },
  "language_info": {
   "codemirror_mode": "r",
   "file_extension": ".r",
   "mimetype": "text/x-r-source",
   "name": "R",
   "pygments_lexer": "r",
   "version": "3.4.1"
  }
 },
 "nbformat": 4,
 "nbformat_minor": 2
}
