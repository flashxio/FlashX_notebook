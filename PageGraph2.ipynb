{
 "cells": [
  {
   "cell_type": "code",
   "execution_count": 1,
   "metadata": {},
   "outputs": [
    {
     "name": "stderr",
     "output_type": "stream",
     "text": [
      "Loading required package: igraph\n",
      "\n",
      "Attaching package: ‘igraph’\n",
      "\n",
      "The following objects are masked from ‘package:stats’:\n",
      "\n",
      "    decompose, spectrum\n",
      "\n",
      "The following object is masked from ‘package:base’:\n",
      "\n",
      "    union\n",
      "\n",
      "Loading required package: Rcpp\n",
      "Loading required package: FlashR\n",
      "Loading required package: RSpectra\n",
      "\n",
      "Attaching package: ‘FlashR’\n",
      "\n",
      "The following objects are masked from ‘package:base’:\n",
      "\n",
      "    cbind, pmax, pmin, rbind\n",
      "\n"
     ]
    }
   ],
   "source": [
    "library(FlashGraphR)\n",
    "fg.set.conf(\"/mnt/nfs2/zhengda/FlashX-stable/matrix/conf/run_test-EM.txt\")\n",
    "fg <- fg.get.graph(\"page-graph-smallV-lcc\")"
   ]
  },
  {
   "cell_type": "code",
   "execution_count": 8,
   "metadata": {
    "collapsed": true
   },
   "outputs": [],
   "source": [
    "in_deg <- fg.degree(fg, mode=\"in\")\n",
    "out_deg <- fg.degree(fg, mode=\"out\")"
   ]
  },
  {
   "cell_type": "code",
   "execution_count": 9,
   "metadata": {
    "collapsed": true
   },
   "outputs": [],
   "source": [
    "load(file=\"/mnt/nfs2/zhengda/pg-aug-smallV-evals1.Rdata\")\n",
    "load(file=\"/mnt/nfs2/zhengda/pg-aug-smallV-evals2.Rdata\")\n",
    "svals <- sqrt(c(evals1, evals2))[1:12]\n",
    "\n",
    "right1 <- fm.get.dense.matrix(\"pg-aug-smallV1.mat\")\n",
    "right2 <- fm.get.dense.matrix(\"pg-aug-smallV2.mat\")\n",
    "right2 <- right2[,1:5]\n",
    "right <- cbind(right1, right2)\n",
    "\n",
    "data <- right\n",
    "data <- fm.mapply.row(data, sqrt(svals), \"*\")"
   ]
  },
  {
   "cell_type": "code",
   "execution_count": 11,
   "metadata": {},
   "outputs": [
    {
     "data": {
      "text/html": [
       "61"
      ],
      "text/latex": [
       "61"
      ],
      "text/markdown": [
       "61"
      ],
      "text/plain": [
       "[1] 61"
      ]
     },
     "metadata": {},
     "output_type": "display_data"
    }
   ],
   "source": [
    "as.vector(sum(abs(data[,1]) > 1))"
   ]
  },
  {
   "cell_type": "code",
   "execution_count": 10,
   "metadata": {},
   "outputs": [
    {
     "data": {
      "text/html": [
       "767"
      ],
      "text/latex": [
       "767"
      ],
      "text/markdown": [
       "767"
      ],
      "text/plain": [
       "[1] 767"
      ]
     },
     "metadata": {},
     "output_type": "display_data"
    }
   ],
   "source": [
    "r <- sqrt(rowSums(data * data))\n",
    "as.vector(sum(r > 2))"
   ]
  },
  {
   "cell_type": "code",
   "execution_count": 22,
   "metadata": {
    "collapsed": true
   },
   "outputs": [],
   "source": [
    "subg <- fg.fetch.subgraph(fg, vertices = which(r <= 1), name = \"pg-tmp2\", compress = TRUE)"
   ]
  },
  {
   "cell_type": "code",
   "execution_count": 2,
   "metadata": {
    "collapsed": true
   },
   "outputs": [],
   "source": [
    "subg <- fg.get.graph(\"pg-tmp2\")"
   ]
  },
  {
   "cell_type": "code",
   "execution_count": 6,
   "metadata": {},
   "outputs": [
    {
     "data": {
      "text/plain": [
       "FlashGraph pg-tmp2 (D): 3344674256 126271372126"
      ]
     },
     "metadata": {},
     "output_type": "display_data"
    }
   ],
   "source": [
    "subg"
   ]
  },
  {
   "cell_type": "code",
   "execution_count": 3,
   "metadata": {
    "collapsed": true
   },
   "outputs": [],
   "source": [
    "cc <- fg.clusters(subg, mode = \"weak\")"
   ]
  },
  {
   "cell_type": "code",
   "execution_count": 4,
   "metadata": {},
   "outputs": [
    {
     "data": {
      "text/html": [
       "454497"
      ],
      "text/latex": [
       "454497"
      ],
      "text/markdown": [
       "454497"
      ],
      "text/plain": [
       "[1] 454497"
      ]
     },
     "metadata": {},
     "output_type": "display_data"
    }
   ],
   "source": [
    "tbl <- fm.table(cc)\n",
    "length(tbl@val)"
   ]
  },
  {
   "cell_type": "code",
   "execution_count": 8,
   "metadata": {
    "collapsed": true
   },
   "outputs": [],
   "source": [
    "lcc <- fg.fetch.subgraph(subg, vertices = which(cc == 0), name=\"pg-tmp2-lcc\", compress = TRUE)"
   ]
  },
  {
   "cell_type": "code",
   "execution_count": 2,
   "metadata": {
    "collapsed": true
   },
   "outputs": [],
   "source": [
    "lcc <- fg.get.graph(\"pg-tmp2-lcc\")"
   ]
  },
  {
   "cell_type": "code",
   "execution_count": 3,
   "metadata": {
    "collapsed": true
   },
   "outputs": [],
   "source": [
    "spm <- fg.get.sparse.matrix(lcc)\n",
    "deg <- fg.degree(lcc)/(2*fg.vcount(lcc) - 1)\n",
    "mul <- function(x, extra) {\n",
    "x <- spm %*% x + fm.mapply.col(x, deg, \"*\")\n",
    "ret <- t(spm) %*% x + fm.mapply.col(x, deg, \"*\")\n",
    "x <- NULL\n",
    "gc()\n",
    "ret\n",
    "}"
   ]
  },
  {
   "cell_type": "code",
   "execution_count": 4,
   "metadata": {},
   "outputs": [
    {
     "ename": "ERROR",
     "evalue": "Error in eval(expr, envir, enclos): object 'res' not found\n",
     "output_type": "error",
     "traceback": [
      "Error in eval(expr, envir, enclos): object 'res' not found\nTraceback:\n"
     ]
    }
   ],
   "source": [
    "res1 <- fm.eigen(mul, k=8, n=nrow(spm), which=\"LM\", sym=TRUE, options=list(in.mem=TRUE))\n"
   ]
  },
  {
   "cell_type": "code",
   "execution_count": 5,
   "metadata": {},
   "outputs": [
    {
     "name": "stdout",
     "output_type": "stream",
     "text": [
      "[1] 179396097 111576967 109035362  90839959  63225071  62741682  57133321\n",
      "[8]  56949555\n"
     ]
    }
   ],
   "source": [
    "print(res1$values)"
   ]
  },
  {
   "cell_type": "code",
   "execution_count": 7,
   "metadata": {},
   "outputs": [
    {
     "name": "stdout",
     "output_type": "stream",
     "text": [
      " [1] 179396097 111576967 109035362  90839959  63225071  62741682  57133321\n",
      " [8]  56949555  53876807  51981467  51146511  50629425  50485451  49806593\n",
      "[15]  49440203  48322691\n",
      " [1] 13393.883 10563.000 10442.000  9531.000  7951.419  7920.965  7558.659\n",
      " [8]  7546.493  7340.082  7209.817  7151.679  7115.436  7105.311  7057.379\n",
      "[15]  7031.373  6951.452\n"
     ]
    }
   ],
   "source": [
    "load(\"/mnt/nfs2/zhengda/pg-tmp2-lcc-evals1.Rdata\")\n",
    "load(\"/mnt/nfs2/zhengda/pg-tmp2-lcc-evals2.Rdata\")\n",
    "print(c(evals1, evals2))\n",
    "svals <- sqrt(c(evals1, evals2))\n",
    "print(svals)"
   ]
  },
  {
   "cell_type": "code",
   "execution_count": 2,
   "metadata": {},
   "outputs": [
    {
     "data": {
      "image/png": "[encoded data removed]",
      "text/plain": [
       "plot without title"
      ]
     },
     "metadata": {},
     "output_type": "display_data"
    }
   ],
   "source": [
    "getElbows <- function(d, n = 3, threshold = FALSE)\n",
    "{\n",
    "  if (is.unsorted(-d))\n",
    "    stop(\"d must be sorted decreasingly!\")\n",
    "\n",
    "  if (!is.logical(threshold))\n",
    "    d <- d[d > threshold]\n",
    "\n",
    "  p <- length(d)\n",
    "  if (p == 0)\n",
    "    stop(paste(\"d must have elements that are larger than the threshold \",\n",
    "               threshold), \"!\", sep=\"\")\n",
    "\n",
    "  lq <- rep(0.0, p)                     # log likelihood, function of q\n",
    "  for (q in 1:p) {\n",
    "    mu1 <- mean(d[1:q])\n",
    "    mu2 <- mean(d[-(1:q)])              # = NaN when q = p\n",
    "    sigma2 <- (sum((d[1:q] - mu1)^2) + sum((d[-(1:q)] - mu2)^2)) /\n",
    "      (p - 1 - (q < p))\n",
    "    lq[q] <- sum( dnorm(  d[1:q ], mu1, sqrt(sigma2), log=TRUE) ) +\n",
    "      sum( dnorm(d[-(1:q)], mu2, sqrt(sigma2), log=TRUE) )\n",
    "  }\n",
    "\n",
    "  q <- which.max(lq)\n",
    "  if (n > 1 && q < p) {\n",
    "    return(c(q, q + getElbows(d[(q+1):p], n-1)))\n",
    "  } else {\n",
    "    return(q)\n",
    "  }\n",
    "}\n",
    "\n",
    "cols <- rep(\"black\", length(svals))\n",
    "cols[getElbows(sqrt(svals))] <- \"red\"\n",
    "pch <- rep(1, length(svals))\n",
    "pch[getElbows(sqrt(svals))] <- 19\n",
    "plot(svals, type=\"b\", xlab=\"#singular values\", col=cols, pch=pch)"
   ]
  },
  {
   "cell_type": "code",
   "execution_count": 7,
   "metadata": {},
   "outputs": [
    {
     "data": {
      "text/html": [
       "<table>\n",
       "<thead><tr><th></th><th scope=col>used</th><th scope=col>(Mb)</th><th scope=col>gc trigger</th><th scope=col>(Mb)</th><th scope=col>max used</th><th scope=col>(Mb)</th></tr></thead>\n",
       "<tbody>\n",
       "\t<tr><th scope=row>Ncells</th><td>1442905</td><td>77.1   </td><td>2164898</td><td>115.7  </td><td>2164898</td><td>115.7  </td></tr>\n",
       "\t<tr><th scope=row>Vcells</th><td>1442599</td><td>11.1   </td><td>2382689</td><td> 18.2  </td><td>1899606</td><td> 14.5  </td></tr>\n",
       "</tbody>\n",
       "</table>\n"
      ],
      "text/latex": [
       "\\begin{tabular}{r|llllll}\n",
       "  & used & (Mb) & gc trigger & (Mb) & max used & (Mb)\\\\\n",
       "\\hline\n",
       "\tNcells & 1442905 & 77.1    & 2164898 & 115.7   & 2164898 & 115.7  \\\\\n",
       "\tVcells & 1442599 & 11.1    & 2382689 &  18.2   & 1899606 &  14.5  \\\\\n",
       "\\end{tabular}\n"
      ],
      "text/markdown": [
       "\n",
       "| <!--/--> | used | (Mb) | gc trigger | (Mb) | max used | (Mb) | \n",
       "|---|---|\n",
       "| Ncells | 1442905 | 77.1    | 2164898 | 115.7   | 2164898 | 115.7   | \n",
       "| Vcells | 1442599 | 11.1    | 2382689 |  18.2   | 1899606 |  14.5   | \n",
       "\n",
       "\n"
      ],
      "text/plain": [
       "       used    (Mb) gc trigger (Mb)  max used (Mb) \n",
       "Ncells 1442905 77.1 2164898    115.7 2164898  115.7\n",
       "Vcells 1442599 11.1 2382689     18.2 1899606   14.5"
      ]
     },
     "metadata": {},
     "output_type": "display_data"
    }
   ],
   "source": [
    "gc()\n",
    "\n",
    "rescale <- function(x) {\n",
    "if (fm.is.vector(x))\n",
    "x <- fm.as.matrix(x)\n",
    "scal <- sqrt(colSums(x * x))\n",
    "x <- fm.mapply.row(x, scal, fm.bo.div)\n",
    "}\n",
    "\n",
    "right <- fm.get.dense.matrix(\"pg-tmp2-lcc.mat\")\n",
    "right <- right[,1:4]\n",
    "right <- fm.conv.store(right, in.mem=TRUE)\n",
    "left <- spm %*% right + fm.mapply.col(fm.as.matrix(right), deg, \"*\")\n",
    "left <- fm.conv.store(rescale(left), in.mem = FALSE, name=\"pg-tmp2-lcc1-left.mat\")"
   ]
  },
  {
   "cell_type": "code",
   "execution_count": 8,
   "metadata": {
    "collapsed": true
   },
   "outputs": [],
   "source": [
    "right <- fm.get.dense.matrix(\"pg-tmp2-lcc.mat\")\n",
    "right <- right[,1:4]\n",
    "left <- fm.get.dense.matrix(\"pg-tmp2-lcc1-left.mat\")"
   ]
  },
  {
   "cell_type": "code",
   "execution_count": 18,
   "metadata": {},
   "outputs": [
    {
     "data": {
      "text/html": [
       "<ol class=list-inline>\n",
       "\t<li>60840</li>\n",
       "\t<li>8</li>\n",
       "</ol>\n"
      ],
      "text/latex": [
       "\\begin{enumerate*}\n",
       "\\item 60840\n",
       "\\item 8\n",
       "\\end{enumerate*}\n"
      ],
      "text/markdown": [
       "1. 60840\n",
       "2. 8\n",
       "\n",
       "\n"
      ],
      "text/plain": [
       "[1] 60840     8"
      ]
     },
     "metadata": {},
     "output_type": "display_data"
    },
    {
     "data": {
      "text/html": [
       "0.0086406567314302"
      ],
      "text/latex": [
       "0.0086406567314302"
      ],
      "text/markdown": [
       "0.0086406567314302"
      ],
      "text/plain": [
       "[1] 0.008640657"
      ]
     },
     "metadata": {},
     "output_type": "display_data"
    }
   ],
   "source": [
    "vecs <- cbind(left, right)\n",
    "data <- fm.mapply.row(vecs, sqrt(c(svals[1:4], svals[1:4])), \"*\")\n",
    "r <- sqrt(fm.agg.mat(data * data, 1, \"+\"))\n",
    "data1 <- data[r > 1/sqrt(svals[1]), ]\n",
    "dim(data1)\n",
    "1/sqrt(svals[1])"
   ]
  },
  {
   "cell_type": "code",
   "execution_count": 21,
   "metadata": {},
   "outputs": [
    {
     "data": {
      "image/png": "[encoded data removed]",
      "text/plain": [
       "Plot with title “The percentage of vertices in a radius from the origin”"
      ]
     },
     "metadata": {},
     "output_type": "display_data"
    }
   ],
   "source": [
    "res <- list()\n",
    "origin.radius <- c(1e-15, 1e-11, 1e-10, 1e-9, 1e-8, 1e-7, 1e-6, 1e-5, 1e-4, 1e-3)\n",
    "for (val in origin.radius) {\n",
    "    res <- c(res, r < val)\n",
    "}\n",
    "res <- fm.cbind.list(res)\n",
    "origin.ratio <- as.vector(colSums(as.double(res)))/nrow(res)\n",
    "plot(x=origin.radius, y=origin.ratio * 100, type=\"b\", xlab=\"Origin radius\", ylab=\"%\",\n",
    "     main=\"The percentage of vertices in a radius from the origin\", log=\"x\")"
   ]
  },
  {
   "cell_type": "code",
   "execution_count": 13,
   "metadata": {},
   "outputs": [
    {
     "data": {
      "text/html": [
       "<ol class=list-inline>\n",
       "\t<li>13393.8828361662</li>\n",
       "\t<li>10562.9999088572</li>\n",
       "\t<li>10441.9999077788</li>\n",
       "\t<li>9530.99989852525</li>\n",
       "\t<li>7951.41941076858</li>\n",
       "\t<li>7920.96470719202</li>\n",
       "\t<li>7558.65868164302</li>\n",
       "\t<li>7546.49292468733</li>\n",
       "\t<li>7340.08219163008</li>\n",
       "\t<li>7209.81741874748</li>\n",
       "\t<li>7151.67888587317</li>\n",
       "\t<li>7115.43568047159</li>\n",
       "\t<li>7105.31145538323</li>\n",
       "\t<li>7057.37858701482</li>\n",
       "\t<li>7031.37274592743</li>\n",
       "\t<li>6951.45244323879</li>\n",
       "</ol>\n"
      ],
      "text/latex": [
       "\\begin{enumerate*}\n",
       "\\item 13393.8828361662\n",
       "\\item 10562.9999088572\n",
       "\\item 10441.9999077788\n",
       "\\item 9530.99989852525\n",
       "\\item 7951.41941076858\n",
       "\\item 7920.96470719202\n",
       "\\item 7558.65868164302\n",
       "\\item 7546.49292468733\n",
       "\\item 7340.08219163008\n",
       "\\item 7209.81741874748\n",
       "\\item 7151.67888587317\n",
       "\\item 7115.43568047159\n",
       "\\item 7105.31145538323\n",
       "\\item 7057.37858701482\n",
       "\\item 7031.37274592743\n",
       "\\item 6951.45244323879\n",
       "\\end{enumerate*}\n"
      ],
      "text/markdown": [
       "1. 13393.8828361662\n",
       "2. 10562.9999088572\n",
       "3. 10441.9999077788\n",
       "4. 9530.99989852525\n",
       "5. 7951.41941076858\n",
       "6. 7920.96470719202\n",
       "7. 7558.65868164302\n",
       "8. 7546.49292468733\n",
       "9. 7340.08219163008\n",
       "10. 7209.81741874748\n",
       "11. 7151.67888587317\n",
       "12. 7115.43568047159\n",
       "13. 7105.31145538323\n",
       "14. 7057.37858701482\n",
       "15. 7031.37274592743\n",
       "16. 6951.45244323879\n",
       "\n",
       "\n"
      ],
      "text/plain": [
       " [1] 13393.883 10563.000 10442.000  9531.000  7951.419  7920.965  7558.659\n",
       " [8]  7546.493  7340.082  7209.817  7151.679  7115.436  7105.311  7057.379\n",
       "[15]  7031.373  6951.452"
      ]
     },
     "metadata": {},
     "output_type": "display_data"
    }
   ],
   "source": [
    "vecs"
   ]
  },
  {
   "cell_type": "code",
   "execution_count": null,
   "metadata": {
    "collapsed": true
   },
   "outputs": [],
   "source": []
  }
 ],
 "metadata": {
  "kernelspec": {
   "display_name": "R",
   "language": "R",
   "name": "ir"
  },
  "language_info": {
   "codemirror_mode": "r",
   "file_extension": ".r",
   "mimetype": "text/x-r-source",
   "name": "R",
   "pygments_lexer": "r",
   "version": "3.4.0"
  }
 },
 "nbformat": 4,
 "nbformat_minor": 2
}
