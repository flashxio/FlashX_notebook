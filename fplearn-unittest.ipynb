{
 "cells": [
  {
   "cell_type": "code",
   "execution_count": 1,
   "metadata": {
    "collapsed": true
   },
   "outputs": [],
   "source": [
    "import flashpy as fp\n",
    "import numpy as np\n",
    "import fplearn\n",
    "import sklearn"
   ]
  },
  {
   "cell_type": "code",
   "execution_count": 2,
   "metadata": {
    "collapsed": true
   },
   "outputs": [],
   "source": [
    "from fplearn.linear_model import Ridge as fp_Ridge\n",
    "from fplearn.linear_model import ridge_regression as fp_ridge_regression\n",
    "from fplearn.linear_model import LogisticRegression as fp_LogisticRegression\n",
    "from fplearn.utils.extmath import row_norms as fp_row_norms\n",
    "from fplearn.metrics.pairwise import euclidean_distances as fp_euclidean_distances\n",
    "from fplearn.cluster import k_means as fp_kmeans\n",
    "#from fplearn.model_selection import cross_val_score as fp_cross_val_score\n",
    "from fplearn.utils.extmath import randomized_svd as fp_randomized_svd\n",
    "\n",
    "from sklearn.linear_model import Ridge as sk_Ridge\n",
    "from sklearn.linear_model import ridge_regression as sk_ridge_regression\n",
    "from sklearn.linear_model import LogisticRegression as sk_LogisticRegression\n",
    "from sklearn.utils.extmath import row_norms as sk_row_norms\n",
    "from sklearn.metrics.pairwise import euclidean_distances as sk_euclidean_distances\n",
    "from sklearn.cluster import k_means as sk_kmeans\n",
    "#from sklearn.model_selection import cross_val_score as sk_cross_val_score\n",
    "from sklearn.utils.extmath import randomized_svd as sk_randomized_svd"
   ]
  },
  {
   "cell_type": "code",
   "execution_count": 3,
   "metadata": {},
   "outputs": [
    {
     "data": {
      "text/plain": [
       "True"
      ]
     },
     "execution_count": 3,
     "metadata": {},
     "output_type": "execute_result"
    }
   ],
   "source": [
    "fp.init_flashpy()"
   ]
  },
  {
   "cell_type": "code",
   "execution_count": 4,
   "metadata": {
    "collapsed": true
   },
   "outputs": [],
   "source": [
    "def verify(fp_arr, np_arr):\n",
    "    assert fp_arr.ndim == np_arr.ndim\n",
    "    assert fp_arr.shape == np_arr.shape\n",
    "    assert fp_arr.size == np_arr.size\n",
    "    assert fp_arr.itemsize == np_arr.itemsize\n",
    "    assert fp_arr.nbytes == np_arr.nbytes\n",
    "    tmp = np.array(fp_arr, copy=True)\n",
    "    assert np.all(np.absolute(tmp - np_arr) < 1e-10)\n"
   ]
  },
  {
   "cell_type": "code",
   "execution_count": 5,
   "metadata": {},
   "outputs": [
    {
     "name": "stdout",
     "output_type": "stream",
     "text": [
      "test ridge_regression\n"
     ]
    }
   ],
   "source": [
    "print(\"test ridge_regression\")\n",
    "X = fp.array(np.random.normal(scale=100, size=[1000000, 10]))\n",
    "y = fp.array(np.random.normal(scale=100, size=1000000))\n",
    "fp_res = fp_ridge_regression(X, y, 1, solver='svd')\n",
    "sk_res = sk_ridge_regression(X, y, 1, solver='svd')\n",
    "verify(fp_res, sk_res)"
   ]
  },
  {
   "cell_type": "code",
   "execution_count": 6,
   "metadata": {},
   "outputs": [
    {
     "name": "stdout",
     "output_type": "stream",
     "text": [
      "test Ridge\n"
     ]
    }
   ],
   "source": [
    "print(\"test Ridge\")\n",
    "fp_model = fp_Ridge(solver='svd')\n",
    "fp_model.fit(X, y)\n",
    "sk_model = sk_Ridge(solver='svd')\n",
    "sk_model.fit(X, y)\n",
    "verify(fp_model.coef_, sk_model.coef_)"
   ]
  },
  {
   "cell_type": "code",
   "execution_count": null,
   "metadata": {
    "collapsed": true
   },
   "outputs": [],
   "source": []
  }
 ],
 "metadata": {
  "kernelspec": {
   "display_name": "Python 2",
   "language": "python",
   "name": "python2"
  },
  "language_info": {
   "codemirror_mode": {
    "name": "ipython",
    "version": 2
   },
   "file_extension": ".py",
   "mimetype": "text/x-python",
   "name": "python",
   "nbconvert_exporter": "python",
   "pygments_lexer": "ipython2",
   "version": "2.7.12"
  }
 },
 "nbformat": 4,
 "nbformat_minor": 2
}
